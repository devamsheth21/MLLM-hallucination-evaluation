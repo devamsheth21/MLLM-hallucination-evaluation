{
 "cells": [
  {
   "cell_type": "code",
   "execution_count": 7,
   "id": "b8d459fb-a808-480e-8b9c-be332da95a2e",
   "metadata": {},
   "outputs": [
    {
     "data": {
      "application/vnd.jupyter.widget-view+json": {
       "model_id": "6d45493faa0e4b3a927db665be60df95",
       "version_major": 2,
       "version_minor": 0
      },
      "text/plain": [
       "Loading checkpoint shards:   0%|          | 0/4 [00:00<?, ?it/s]"
      ]
     },
     "metadata": {},
     "output_type": "display_data"
    },
    {
     "name": "stdout",
     "output_type": "stream",
     "text": [
      "no toilet paper\n"
     ]
    }
   ],
   "source": [
    "from transformers import InstructBlipProcessor, InstructBlipForConditionalGeneration\n",
    "import torch\n",
    "from PIL import Image\n",
    "import requests\n",
    "\n",
    "model = InstructBlipForConditionalGeneration.from_pretrained(\"Salesforce/instructblip-vicuna-7b\")\n",
    "processor = InstructBlipProcessor.from_pretrained(\"Salesforce/instructblip-vicuna-7b\")\n",
    "\n",
    "device = \"cuda\" if torch.cuda.is_available() else \"cpu\"\n",
    "model.to(device)\n",
    "image = Image.open(\"sink.jpg\")\n",
    "prompt = \"what is unusual about this image ?\"\n",
    "inputs = processor(images=image, text=prompt, return_tensors=\"pt\").to(device)\n",
    "\n",
    "outputs = model.generate(\n",
    "    **inputs,\n",
    "    do_sample=False,\n",
    "    num_beams=5,\n",
    "    max_length=256,\n",
    "    min_length=1,\n",
    "    top_p=0.9,\n",
    "    repetition_penalty=1.5,\n",
    "    length_penalty=1.0,\n",
    "    temperature=1,\n",
    ")\n",
    "generated_text = processor.batch_decode(outputs, skip_special_tokens=True)[0].strip()\n",
    "print(generated_text)"
   ]
  },
  {
   "cell_type": "code",
   "execution_count": null,
   "id": "46fa9506-5bbc-4787-9f9a-0a080f725f67",
   "metadata": {},
   "outputs": [],
   "source": [
    "from transformers import InstructBlipProcessor, InstructBlipForConditionalGeneration\n",
    "from PIL import Image\n",
    "import torch\n",
    "\n",
    "model = InstructBlipForConditionalGeneration.from_pretrained(\"Salesforce/instructblip-vicuna-7b\")\n",
    "processor = InstructBlipProcessor.from_pretrained(\"Salesforce/instructblip-vicuna-7b\")\n",
    "\n",
    "device = \"cuda\" if torch.cuda.is_available() else \"cpu\"\n",
    "model.to(device)\n",
    "\n",
    "def generate_response(image_path, input_text):\n",
    "    # Load image from file\n",
    "    image = Image.open(image_path)\n",
    "\n",
    "    # Process image and text using InstructBlip processor\n",
    "    inputs = processor(images=image, text=input_text, return_tensors=\"pt\").to(device)\n",
    "\n",
    "    # Generate text using InstructBlip model\n",
    "    outputs = model.generate(\n",
    "        **inputs,\n",
    "        do_sample=False,\n",
    "        num_beams=5,\n",
    "        max_length=256,\n",
    "        min_length=1,\n",
    "        top_p=0.9,\n",
    "        repetition_penalty=1.5,\n",
    "        length_penalty=1.0,\n",
    "        temperature=1,\n",
    "    )\n",
    "\n",
    "    # Decode the generated output text\n",
    "    generated_text = processor.batch_decode(outputs, skip_special_tokens=True)[0].strip()\n",
    "\n",
    "    return generated_text\n",
    "\n",
    "# Example usage:\n",
    "image_path = \"food.jpg\"\n",
    "input_text = \"what is unusual about this image?\"\n",
    "\n",
    "# Generate response based on the image and text pair\n",
    "generated_response = generate_response(image_path, input_text)\n",
    "print(\"Generated response:\", generated_response)"
   ]
  }
 ],
 "metadata": {
  "kernelspec": {
   "display_name": "Python 3 (ipykernel)",
   "language": "python",
   "name": "python3"
  },
  "language_info": {
   "codemirror_mode": {
    "name": "ipython",
    "version": 3
   },
   "file_extension": ".py",
   "mimetype": "text/x-python",
   "name": "python",
   "nbconvert_exporter": "python",
   "pygments_lexer": "ipython3",
   "version": "3.11.6"
  }
 },
 "nbformat": 4,
 "nbformat_minor": 5
}
