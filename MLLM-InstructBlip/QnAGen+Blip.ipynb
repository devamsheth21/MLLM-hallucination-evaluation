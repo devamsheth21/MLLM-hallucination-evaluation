{
 "cells": [
  {
   "cell_type": "code",
   "execution_count": 1,
   "id": "363dfa95-60b7-4e74-8e29-2807e3536bce",
   "metadata": {},
   "outputs": [
    {
     "name": "stdout",
     "output_type": "stream",
     "text": [
      "Defaulting to user installation because normal site-packages is not writeable\n",
      "Requirement already satisfied: huggingface_hub in ./.local/lib/python3.11/site-packages (0.17.3)\n",
      "Requirement already satisfied: filelock in ./.local/lib/python3.11/site-packages (from huggingface_hub) (3.12.4)\n",
      "Requirement already satisfied: fsspec in /packages/apps/jupyter/2023-10-09/lib/python3.11/site-packages (from huggingface_hub) (2023.9.2)\n",
      "Requirement already satisfied: requests in /packages/apps/jupyter/2023-10-09/lib/python3.11/site-packages (from huggingface_hub) (2.29.0)\n",
      "Requirement already satisfied: tqdm>=4.42.1 in /packages/apps/jupyter/2023-10-09/lib/python3.11/site-packages (from huggingface_hub) (4.65.0)\n",
      "Requirement already satisfied: pyyaml>=5.1 in /packages/apps/jupyter/2023-10-09/lib/python3.11/site-packages (from huggingface_hub) (6.0.1)\n",
      "Requirement already satisfied: typing-extensions>=3.7.4.3 in /packages/apps/jupyter/2023-10-09/lib/python3.11/site-packages (from huggingface_hub) (4.8.0)\n",
      "Requirement already satisfied: packaging>=20.9 in /packages/apps/jupyter/2023-10-09/lib/python3.11/site-packages (from huggingface_hub) (23.0)\n",
      "Requirement already satisfied: charset-normalizer<4,>=2 in /packages/apps/jupyter/2023-10-09/lib/python3.11/site-packages (from requests->huggingface_hub) (2.0.4)\n",
      "Requirement already satisfied: idna<4,>=2.5 in /packages/apps/jupyter/2023-10-09/lib/python3.11/site-packages (from requests->huggingface_hub) (3.4)\n",
      "Requirement already satisfied: urllib3<1.27,>=1.21.1 in /packages/apps/jupyter/2023-10-09/lib/python3.11/site-packages (from requests->huggingface_hub) (1.26.16)\n",
      "Requirement already satisfied: certifi>=2017.4.17 in /packages/apps/jupyter/2023-10-09/lib/python3.11/site-packages (from requests->huggingface_hub) (2023.7.22)\n",
      "Defaulting to user installation because normal site-packages is not writeable\n",
      "Requirement already satisfied: transformers in ./.local/lib/python3.11/site-packages (4.35.0)\n",
      "Requirement already satisfied: filelock in ./.local/lib/python3.11/site-packages (from transformers) (3.12.4)\n",
      "Requirement already satisfied: huggingface-hub<1.0,>=0.16.4 in ./.local/lib/python3.11/site-packages (from transformers) (0.17.3)\n",
      "Requirement already satisfied: numpy>=1.17 in /packages/apps/jupyter/2023-10-09/lib/python3.11/site-packages (from transformers) (1.26.0)\n",
      "Requirement already satisfied: packaging>=20.0 in /packages/apps/jupyter/2023-10-09/lib/python3.11/site-packages (from transformers) (23.0)\n",
      "Requirement already satisfied: pyyaml>=5.1 in /packages/apps/jupyter/2023-10-09/lib/python3.11/site-packages (from transformers) (6.0.1)\n",
      "Requirement already satisfied: regex!=2019.12.17 in ./.local/lib/python3.11/site-packages (from transformers) (2023.10.3)\n",
      "Requirement already satisfied: requests in /packages/apps/jupyter/2023-10-09/lib/python3.11/site-packages (from transformers) (2.29.0)\n",
      "Requirement already satisfied: tokenizers<0.15,>=0.14 in ./.local/lib/python3.11/site-packages (from transformers) (0.14.1)\n",
      "Requirement already satisfied: safetensors>=0.3.1 in ./.local/lib/python3.11/site-packages (from transformers) (0.4.0)\n",
      "Requirement already satisfied: tqdm>=4.27 in /packages/apps/jupyter/2023-10-09/lib/python3.11/site-packages (from transformers) (4.65.0)\n",
      "Requirement already satisfied: fsspec in /packages/apps/jupyter/2023-10-09/lib/python3.11/site-packages (from huggingface-hub<1.0,>=0.16.4->transformers) (2023.9.2)\n",
      "Requirement already satisfied: typing-extensions>=3.7.4.3 in /packages/apps/jupyter/2023-10-09/lib/python3.11/site-packages (from huggingface-hub<1.0,>=0.16.4->transformers) (4.8.0)\n",
      "Requirement already satisfied: charset-normalizer<4,>=2 in /packages/apps/jupyter/2023-10-09/lib/python3.11/site-packages (from requests->transformers) (2.0.4)\n",
      "Requirement already satisfied: idna<4,>=2.5 in /packages/apps/jupyter/2023-10-09/lib/python3.11/site-packages (from requests->transformers) (3.4)\n",
      "Requirement already satisfied: urllib3<1.27,>=1.21.1 in /packages/apps/jupyter/2023-10-09/lib/python3.11/site-packages (from requests->transformers) (1.26.16)\n",
      "Requirement already satisfied: certifi>=2017.4.17 in /packages/apps/jupyter/2023-10-09/lib/python3.11/site-packages (from requests->transformers) (2023.7.22)\n",
      "Defaulting to user installation because normal site-packages is not writeable\n",
      "Requirement already satisfied: datasets in ./.local/lib/python3.11/site-packages (2.14.6)\n",
      "Requirement already satisfied: numpy>=1.17 in /packages/apps/jupyter/2023-10-09/lib/python3.11/site-packages (from datasets) (1.26.0)\n",
      "Requirement already satisfied: pyarrow>=8.0.0 in /packages/apps/jupyter/2023-10-09/lib/python3.11/site-packages (from datasets) (13.0.0)\n",
      "Requirement already satisfied: dill<0.3.8,>=0.3.0 in ./.local/lib/python3.11/site-packages (from datasets) (0.3.7)\n",
      "Requirement already satisfied: pandas in /packages/apps/jupyter/2023-10-09/lib/python3.11/site-packages (from datasets) (2.1.1)\n",
      "Requirement already satisfied: requests>=2.19.0 in /packages/apps/jupyter/2023-10-09/lib/python3.11/site-packages (from datasets) (2.29.0)\n",
      "Requirement already satisfied: tqdm>=4.62.1 in /packages/apps/jupyter/2023-10-09/lib/python3.11/site-packages (from datasets) (4.65.0)\n",
      "Requirement already satisfied: xxhash in ./.local/lib/python3.11/site-packages (from datasets) (3.4.1)\n",
      "Requirement already satisfied: multiprocess in ./.local/lib/python3.11/site-packages (from datasets) (0.70.15)\n",
      "Requirement already satisfied: fsspec[http]<=2023.10.0,>=2023.1.0 in /packages/apps/jupyter/2023-10-09/lib/python3.11/site-packages (from datasets) (2023.9.2)\n",
      "Requirement already satisfied: aiohttp in ./.local/lib/python3.11/site-packages (from datasets) (3.8.6)\n",
      "Requirement already satisfied: huggingface-hub<1.0.0,>=0.14.0 in ./.local/lib/python3.11/site-packages (from datasets) (0.17.3)\n",
      "Requirement already satisfied: packaging in /packages/apps/jupyter/2023-10-09/lib/python3.11/site-packages (from datasets) (23.0)\n",
      "Requirement already satisfied: pyyaml>=5.1 in /packages/apps/jupyter/2023-10-09/lib/python3.11/site-packages (from datasets) (6.0.1)\n",
      "Requirement already satisfied: attrs>=17.3.0 in /packages/apps/jupyter/2023-10-09/lib/python3.11/site-packages (from aiohttp->datasets) (23.1.0)\n",
      "Requirement already satisfied: charset-normalizer<4.0,>=2.0 in /packages/apps/jupyter/2023-10-09/lib/python3.11/site-packages (from aiohttp->datasets) (2.0.4)\n",
      "Requirement already satisfied: multidict<7.0,>=4.5 in ./.local/lib/python3.11/site-packages (from aiohttp->datasets) (6.0.4)\n",
      "Requirement already satisfied: async-timeout<5.0,>=4.0.0a3 in ./.local/lib/python3.11/site-packages (from aiohttp->datasets) (4.0.3)\n",
      "Requirement already satisfied: yarl<2.0,>=1.0 in ./.local/lib/python3.11/site-packages (from aiohttp->datasets) (1.9.2)\n",
      "Requirement already satisfied: frozenlist>=1.1.1 in ./.local/lib/python3.11/site-packages (from aiohttp->datasets) (1.4.0)\n",
      "Requirement already satisfied: aiosignal>=1.1.2 in ./.local/lib/python3.11/site-packages (from aiohttp->datasets) (1.3.1)\n",
      "Requirement already satisfied: filelock in ./.local/lib/python3.11/site-packages (from huggingface-hub<1.0.0,>=0.14.0->datasets) (3.12.4)\n",
      "Requirement already satisfied: typing-extensions>=3.7.4.3 in /packages/apps/jupyter/2023-10-09/lib/python3.11/site-packages (from huggingface-hub<1.0.0,>=0.14.0->datasets) (4.8.0)\n",
      "Requirement already satisfied: idna<4,>=2.5 in /packages/apps/jupyter/2023-10-09/lib/python3.11/site-packages (from requests>=2.19.0->datasets) (3.4)\n",
      "Requirement already satisfied: urllib3<1.27,>=1.21.1 in /packages/apps/jupyter/2023-10-09/lib/python3.11/site-packages (from requests>=2.19.0->datasets) (1.26.16)\n",
      "Requirement already satisfied: certifi>=2017.4.17 in /packages/apps/jupyter/2023-10-09/lib/python3.11/site-packages (from requests>=2.19.0->datasets) (2023.7.22)\n",
      "Requirement already satisfied: python-dateutil>=2.8.2 in /packages/apps/jupyter/2023-10-09/lib/python3.11/site-packages (from pandas->datasets) (2.8.2)\n",
      "Requirement already satisfied: pytz>=2020.1 in /packages/apps/jupyter/2023-10-09/lib/python3.11/site-packages (from pandas->datasets) (2023.3.post1)\n",
      "Requirement already satisfied: tzdata>=2022.1 in /packages/apps/jupyter/2023-10-09/lib/python3.11/site-packages (from pandas->datasets) (2023.3)\n",
      "Requirement already satisfied: six>=1.5 in /packages/apps/jupyter/2023-10-09/lib/python3.11/site-packages (from python-dateutil>=2.8.2->pandas->datasets) (1.16.0)\n",
      "Defaulting to user installation because normal site-packages is not writeable\n",
      "Requirement already satisfied: accelerate in ./.local/lib/python3.11/site-packages (0.24.1)\n",
      "Requirement already satisfied: numpy>=1.17 in /packages/apps/jupyter/2023-10-09/lib/python3.11/site-packages (from accelerate) (1.26.0)\n",
      "Requirement already satisfied: packaging>=20.0 in /packages/apps/jupyter/2023-10-09/lib/python3.11/site-packages (from accelerate) (23.0)\n",
      "Requirement already satisfied: psutil in /packages/apps/jupyter/2023-10-09/lib/python3.11/site-packages (from accelerate) (5.9.5)\n",
      "Requirement already satisfied: pyyaml in /packages/apps/jupyter/2023-10-09/lib/python3.11/site-packages (from accelerate) (6.0.1)\n",
      "Requirement already satisfied: torch>=1.10.0 in ./.local/lib/python3.11/site-packages (from accelerate) (2.0.1)\n",
      "Requirement already satisfied: huggingface-hub in ./.local/lib/python3.11/site-packages (from accelerate) (0.17.3)\n",
      "Requirement already satisfied: filelock in ./.local/lib/python3.11/site-packages (from torch>=1.10.0->accelerate) (3.12.4)\n",
      "Requirement already satisfied: typing-extensions in /packages/apps/jupyter/2023-10-09/lib/python3.11/site-packages (from torch>=1.10.0->accelerate) (4.8.0)\n",
      "Requirement already satisfied: sympy in /packages/apps/jupyter/2023-10-09/lib/python3.11/site-packages (from torch>=1.10.0->accelerate) (1.12)\n",
      "Requirement already satisfied: networkx in /packages/apps/jupyter/2023-10-09/lib/python3.11/site-packages (from torch>=1.10.0->accelerate) (3.1)\n",
      "Requirement already satisfied: jinja2 in /packages/apps/jupyter/2023-10-09/lib/python3.11/site-packages (from torch>=1.10.0->accelerate) (3.1.2)\n",
      "Requirement already satisfied: nvidia-cuda-nvrtc-cu11==11.7.99 in ./.local/lib/python3.11/site-packages (from torch>=1.10.0->accelerate) (11.7.99)\n",
      "Requirement already satisfied: nvidia-cuda-runtime-cu11==11.7.99 in ./.local/lib/python3.11/site-packages (from torch>=1.10.0->accelerate) (11.7.99)\n",
      "Requirement already satisfied: nvidia-cuda-cupti-cu11==11.7.101 in ./.local/lib/python3.11/site-packages (from torch>=1.10.0->accelerate) (11.7.101)\n",
      "Requirement already satisfied: nvidia-cudnn-cu11==8.5.0.96 in ./.local/lib/python3.11/site-packages (from torch>=1.10.0->accelerate) (8.5.0.96)\n",
      "Requirement already satisfied: nvidia-cublas-cu11==11.10.3.66 in ./.local/lib/python3.11/site-packages (from torch>=1.10.0->accelerate) (11.10.3.66)\n",
      "Requirement already satisfied: nvidia-cufft-cu11==10.9.0.58 in ./.local/lib/python3.11/site-packages (from torch>=1.10.0->accelerate) (10.9.0.58)\n",
      "Requirement already satisfied: nvidia-curand-cu11==10.2.10.91 in ./.local/lib/python3.11/site-packages (from torch>=1.10.0->accelerate) (10.2.10.91)\n",
      "Requirement already satisfied: nvidia-cusolver-cu11==11.4.0.1 in ./.local/lib/python3.11/site-packages (from torch>=1.10.0->accelerate) (11.4.0.1)\n",
      "Requirement already satisfied: nvidia-cusparse-cu11==11.7.4.91 in ./.local/lib/python3.11/site-packages (from torch>=1.10.0->accelerate) (11.7.4.91)\n",
      "Requirement already satisfied: nvidia-nccl-cu11==2.14.3 in ./.local/lib/python3.11/site-packages (from torch>=1.10.0->accelerate) (2.14.3)\n",
      "Requirement already satisfied: nvidia-nvtx-cu11==11.7.91 in ./.local/lib/python3.11/site-packages (from torch>=1.10.0->accelerate) (11.7.91)\n",
      "Requirement already satisfied: triton==2.0.0 in ./.local/lib/python3.11/site-packages (from torch>=1.10.0->accelerate) (2.0.0)\n",
      "Requirement already satisfied: setuptools in /packages/apps/jupyter/2023-10-09/lib/python3.11/site-packages (from nvidia-cublas-cu11==11.10.3.66->torch>=1.10.0->accelerate) (67.8.0)\n",
      "Requirement already satisfied: wheel in /packages/apps/jupyter/2023-10-09/lib/python3.11/site-packages (from nvidia-cublas-cu11==11.10.3.66->torch>=1.10.0->accelerate) (0.38.4)\n",
      "Requirement already satisfied: cmake in ./.local/lib/python3.11/site-packages (from triton==2.0.0->torch>=1.10.0->accelerate) (3.27.7)\n",
      "Requirement already satisfied: lit in ./.local/lib/python3.11/site-packages (from triton==2.0.0->torch>=1.10.0->accelerate) (17.0.4)\n",
      "Requirement already satisfied: fsspec in /packages/apps/jupyter/2023-10-09/lib/python3.11/site-packages (from huggingface-hub->accelerate) (2023.9.2)\n",
      "Requirement already satisfied: requests in /packages/apps/jupyter/2023-10-09/lib/python3.11/site-packages (from huggingface-hub->accelerate) (2.29.0)\n",
      "Requirement already satisfied: tqdm>=4.42.1 in /packages/apps/jupyter/2023-10-09/lib/python3.11/site-packages (from huggingface-hub->accelerate) (4.65.0)\n",
      "Requirement already satisfied: MarkupSafe>=2.0 in /packages/apps/jupyter/2023-10-09/lib/python3.11/site-packages (from jinja2->torch>=1.10.0->accelerate) (2.1.3)\n",
      "Requirement already satisfied: charset-normalizer<4,>=2 in /packages/apps/jupyter/2023-10-09/lib/python3.11/site-packages (from requests->huggingface-hub->accelerate) (2.0.4)\n",
      "Requirement already satisfied: idna<4,>=2.5 in /packages/apps/jupyter/2023-10-09/lib/python3.11/site-packages (from requests->huggingface-hub->accelerate) (3.4)\n",
      "Requirement already satisfied: urllib3<1.27,>=1.21.1 in /packages/apps/jupyter/2023-10-09/lib/python3.11/site-packages (from requests->huggingface-hub->accelerate) (1.26.16)\n",
      "Requirement already satisfied: certifi>=2017.4.17 in /packages/apps/jupyter/2023-10-09/lib/python3.11/site-packages (from requests->huggingface-hub->accelerate) (2023.7.22)\n",
      "Requirement already satisfied: mpmath>=0.19 in /packages/apps/jupyter/2023-10-09/lib/python3.11/site-packages (from sympy->torch>=1.10.0->accelerate) (1.3.0)\n"
     ]
    }
   ],
   "source": [
    "!pip install huggingface_hub\n",
    "!pip install transformers\n",
    "!pip install datasets\n",
    "!pip install accelerate"
   ]
  },
  {
   "cell_type": "code",
   "execution_count": 2,
   "id": "f1b918e3-7ee3-4a60-bec7-15e35df675ae",
   "metadata": {},
   "outputs": [],
   "source": [
    "import numpy as np\n",
    "from datasets import load_dataset\n",
    "\n",
    "# Load the dataset with the `large_random_1k` subset\n",
    "dataset = load_dataset('poloclub/diffusiondb', '2m_first_1k')"
   ]
  },
  {
   "cell_type": "code",
   "execution_count": 3,
   "id": "3a1f7b77-301f-46d7-9de5-a73130dfa9df",
   "metadata": {},
   "outputs": [
    {
     "data": {
      "text/plain": [
       "Dataset({\n",
       "    features: ['image', 'prompt', 'seed', 'step', 'cfg', 'sampler', 'width', 'height', 'user_name', 'timestamp', 'image_nsfw', 'prompt_nsfw'],\n",
       "    num_rows: 1000\n",
       "})"
      ]
     },
     "execution_count": 3,
     "metadata": {},
     "output_type": "execute_result"
    }
   ],
   "source": [
    "my_1k_data = dataset['train']\n",
    "my_1k_data"
   ]
  },
  {
   "cell_type": "code",
   "execution_count": 4,
   "id": "3902f29e-faa2-422d-bc4f-4880030bc9e7",
   "metadata": {},
   "outputs": [
    {
     "data": {
      "application/vnd.jupyter.widget-view+json": {
       "model_id": "13bab93ff1094dae92a9d58c102f7d43",
       "version_major": 2,
       "version_minor": 0
      },
      "text/plain": [
       "VBox(children=(HTML(value='<center> <img\\nsrc=https://huggingface.co/front/assets/huggingface_logo-noborder.sv…"
      ]
     },
     "metadata": {},
     "output_type": "display_data"
    }
   ],
   "source": [
    "from huggingface_hub import login\n",
    "login()"
   ]
  },
  {
   "cell_type": "code",
   "execution_count": 5,
   "id": "762e0cb6-c1bc-4664-8103-1d5efa3db096",
   "metadata": {},
   "outputs": [
    {
     "data": {
      "application/vnd.jupyter.widget-view+json": {
       "model_id": "c7f4fc7191314417ada6f3ec63ab95f7",
       "version_major": 2,
       "version_minor": 0
      },
      "text/plain": [
       "Loading checkpoint shards:   0%|          | 0/2 [00:00<?, ?it/s]"
      ]
     },
     "metadata": {},
     "output_type": "display_data"
    },
    {
     "name": "stderr",
     "output_type": "stream",
     "text": [
      "/home/amudra/.local/lib/python3.11/site-packages/transformers/generation/configuration_utils.py:381: UserWarning: `do_sample` is set to `False`. However, `temperature` is set to `1e-05` -- this flag is only used in sample-based generation modes. You should set `do_sample=True` or unset `temperature`.\n",
      "  warnings.warn(\n"
     ]
    },
    {
     "name": "stdout",
     "output_type": "stream",
     "text": [
      "{'Q. What is the subject of the portrait?': 'A. The subject of the portrait is Dwayne Johnson', 'Q. What is the style of the painting?': 'A. The painting is in the style of Rembrandt', 'Q. What is the medium used in the painting?': 'A. The medium used in the painting is oil on canvas', 'Q. What is the technique used in the painting?': 'A. The technique used in the painting is wet-on-wet', 'Q. What is the level of realism in the painting?': 'A. The level of realism in the painting is highly realistic', 'Q. What is the lighting effect in the painting?': 'A. The lighting effect in the painting is cinematic lightning', 'Q. What are the textures like in the painting?': 'A. The textures in the painting are intricate', 'Q. What is the level of detail in the painting?': 'A. The level of detail in the painting is highly intricate and illusionistic.'}\n"
     ]
    }
   ],
   "source": [
    "from transformers import AutoTokenizer\n",
    "import transformers\n",
    "import torch\n",
    "import random\n",
    "import json\n",
    "import re\n",
    "\n",
    "model = \"meta-llama/Llama-2-7b-chat-hf\"\n",
    "\n",
    "tokenizer = AutoTokenizer.from_pretrained(model)\n",
    "pipeline = transformers.pipeline(\n",
    "    \"text-generation\",\n",
    "    model=model,\n",
    "    torch_dtype=torch.float16,\n",
    "    device_map=\"auto\",\n",
    ")\n",
    "\n",
    "#testing for one index\n",
    "index = 0\n",
    "\n",
    "samp = \"\"\"I will give you a prompt. Generate 6 to 7 pairs of questions and answers from this prompt. You can include question about what attributes mentioned in the prompt such as shape, size, color etc. Think of these questions in such a way that their answers complete the description of the prompt and can be used to make an image through the features described in it. As an example, look at this prompt and the question answer pair generated for it:\n",
    "Prompt: a little girl embroidery, fine art, muted background, calm colore. oil paiting by jan vermeer, masterpiese Question-Answer pair to be generated: Q. What is the object? A. The object is an embroidery of a little girl Q. What is the background color? A. The background is muted  Q.What type of painting is it? A. It is an oil painting. Q.Who is the painter? A. Jan Vermeer is the painter Generate similar question answer pairs for the following prompt:\"\"\"\n",
    "\n",
    "sequences = pipeline(\n",
    "    # samp + my_1k_data['prompt'][index] + \"<Q&A>\",\n",
    "    samp + my_1k_data['prompt'][index] + \"Question-Answer pair to be generated:\",\n",
    "    # samp + my_1k_data['prompt'][index] ,\n",
    "    # my_1k_data['prompt'][index],\n",
    "    do_sample=False,\n",
    "    top_k=50,\n",
    "    num_return_sequences=1,\n",
    "    eos_token_id=tokenizer.eos_token_id,\n",
    "    # max_length=200,\n",
    "    max_new_tokens=512,\n",
    "    temperature = 1e-05,\n",
    "    top_p = 1,\n",
    "    repetition_penalty = 1.0,\n",
    "    length_penalty = 1\n",
    ")\n",
    "\n",
    "text = sequences[0]['generated_text']\n",
    "\n",
    "input_text = text.split('Question-Answer pair to be generated:')\n",
    "input_text\n",
    "\n",
    "qa_dict = {}\n",
    "\n",
    "# Iterate through array starting from the second index\n",
    "for i in range(2, len(input_text), 2):\n",
    "    # Extract questions and answers\n",
    "    questions = re.findall(r'Q\\..*?\\?', input_text[i])\n",
    "    answers = re.findall(r'A\\..*?(?=(?:Q\\.|$))', input_text[i])\n",
    "\n",
    "    # Populate the dictionary with questions and answers\n",
    "    for question, answer in zip(questions, answers):\n",
    "        qa_dict[question.strip()] = answer.strip()\n",
    "\n",
    "# Print the resulting dictionary\n",
    "print(qa_dict)"
   ]
  },
  {
   "cell_type": "code",
   "execution_count": 6,
   "id": "d7e20484-0e2d-4c1f-a357-b457494b5052",
   "metadata": {},
   "outputs": [
    {
     "name": "stdout",
     "output_type": "stream",
     "text": [
      "{0: {'image': <PIL.PngImagePlugin.PngImageFile image mode=RGB size=512x768 at 0x155363110950>, 'prompt': 'a renaissance portrait of dwayne johnson, art in the style of rembrandt!! intricate. ultra detailed, oil on canvas, wet - on - wet technique, pay attention to facial details, highly realistic, cinematic lightning, intricate textures, illusionistic detail, ', 'qa_pairs': {'Q. What is the subject of the portrait?': 'A. The subject of the portrait is Dwayne Johnson', 'Q. What is the style of the painting?': 'A. The painting is in the style of Rembrandt', 'Q. What is the medium used in the painting?': 'A. The medium used in the painting is oil on canvas', 'Q. What is the technique used in the painting?': 'A. The technique used in the painting is wet-on-wet', 'Q. What is the level of realism in the painting?': 'A. The level of realism in the painting is highly realistic', 'Q. What is the lighting effect in the painting?': 'A. The lighting effect in the painting is cinematic lightning', 'Q. What are the textures like in the painting?': 'A. The textures in the painting are intricate', 'Q. What is the level of detail in the painting?': 'A. The level of detail in the painting is highly intricate and illusionistic.'}}, 1: {'image': <PIL.PngImagePlugin.PngImageFile image mode=RGB size=512x640 at 0x155363159890>, 'prompt': 'portrait of a dancing eagle woman, beautiful blonde haired lakota sioux goddess, intricate, highly detailed art by james jean, ray tracing, digital painting, artstation, concept art, smooth, sharp focus, illustration, artgerm and greg rutkowski and alphonse mucha, vladimir kush, giger, 8 k ', 'qa_pairs': {'Q. What is the subject of the artwork?': 'A. The subject is a portrait of a dancing eagle woman.', 'Q. Who is the artist?': 'A. James Jean is the artist.', 'Q. What is the medium used in the artwork?': 'A. Digital painting is used in the artwork.', 'Q. What is the level of detail in the artwork?': 'A. The level of detail is highly detailed.', 'Q. What is the focus of the artwork?': 'A. The focus is smooth and sharp.', 'Q. What is the style of the artwork?': 'A. The style is illustration.', 'Q. Who are some of the artists that have inspired the artist?': 'A. Artists such as Alphonse Mucha, Vladimir Kush, and H.R. Giger have inspired the artist.'}}, 2: {'image': <PIL.PngImagePlugin.PngImageFile image mode=RGB size=512x768 at 0x15536318A310>, 'prompt': 'epic 3 d, become legend shiji! gpu mecha controlled by telepathic hackers, made of liquid, bubbles, crystals, and mangroves, houdini sidefx, perfect render, artstation trending, by jeremy mann, tsutomi nihei and ilya kuvshinov ', 'qa_pairs': {'Q. What is the object?': 'A. The object is a 3D mecha controlled by telepathic hackers.', 'Q. What is the material of the mecha?': 'A. The mecha is made of liquid, bubbles, crystals, and mangroves.', 'Q. What software is used to create the render?': 'A. Houdini and SideFX are used to create the render.'}}}\n"
     ]
    }
   ],
   "source": [
    "samp = \"\"\"I will give you a prompt. Generate 6 to 7 pairs of questions and answers from this prompt. You can include question about what attributes mentioned in the prompt such as shape, size, color etc. Think of these questions in such a way that their answers complete the description of the prompt and can be used to make an image through the features described in it. As an example, look at this prompt and the question answer pair generated for it:\n",
    "Prompt: a little girl embroidery, fine art, muted background, calm colore. oil paiting by jan vermeer, masterpiese Question-Answer pair to be generated: Q. What is the object? A. The object is an embroidery of a little girl Q. What is the background color? A. The background is muted  Q.What type of painting is it? A. It is an oil painting. Q.Who is the painter? A. Jan Vermeer is the painter Generate similar question answer pairs for the following prompt:\"\"\"\n",
    "\n",
    "# Initialize the final output dictionary\n",
    "final_output = {}\n",
    "\n",
    "for index in range(min(3, len(my_1k_data['image']))):\n",
    "\n",
    "    sequences = pipeline(\n",
    "        samp + my_1k_data['prompt'][index] + \"Question-Answer pair to be generated:\",\n",
    "        do_sample=False,\n",
    "        top_k=50,\n",
    "        num_return_sequences=1,\n",
    "        eos_token_id=tokenizer.eos_token_id,\n",
    "        max_new_tokens=512,\n",
    "        temperature=1e-05,\n",
    "        top_p=1,\n",
    "        repetition_penalty=1.0,\n",
    "        length_penalty=1\n",
    "    )\n",
    "\n",
    "    text = sequences[0]['generated_text']\n",
    "\n",
    "    input_text = text.split('Question-Answer pair to be generated:')\n",
    "    \n",
    "    qa_dict = {}\n",
    "    for i in range(2, len(input_text), 2):\n",
    "        questions = re.findall(r'Q\\..*?\\?', input_text[i])\n",
    "        answers = re.findall(r'A\\..*?(?=(?:Q\\.|$))', input_text[i])\n",
    "\n",
    "        for question, answer in zip(questions, answers):\n",
    "            qa_dict[question.strip()] = answer.strip()\n",
    "\n",
    "    final_output[index] = {\n",
    "        'image': my_1k_data['image'][index],\n",
    "        'prompt': my_1k_data['prompt'][index],\n",
    "        'qa_pairs': qa_dict\n",
    "    }\n",
    "\n",
    "print(final_output)"
   ]
  },
  {
   "cell_type": "code",
   "execution_count": null,
   "id": "9464e5c6-dd3f-4c80-a865-470a586d467b",
   "metadata": {},
   "outputs": [],
   "source": [
    "######################################################################"
   ]
  },
  {
   "cell_type": "code",
   "execution_count": null,
   "id": "0f9b223f-9443-4af6-9100-efa16433fe5d",
   "metadata": {},
   "outputs": [],
   "source": [
    "#####################################################################"
   ]
  },
  {
   "cell_type": "code",
   "execution_count": null,
   "id": "2a04c227-ab99-4a36-ac7b-9b5a34ce5858",
   "metadata": {},
   "outputs": [],
   "source": [
    "#Final Single Cell Code for QnA Gen of All Images in Dataset\n",
    "#Can be implemented after Cell 4\n",
    "#Input: my_1k_data (dataset)\n",
    "#Output: final_output (dictionary)"
   ]
  },
  {
   "cell_type": "code",
   "execution_count": null,
   "id": "b3d1880a-9cac-4a93-924c-c7c290a8526e",
   "metadata": {},
   "outputs": [],
   "source": [
    "from transformers import AutoTokenizer\n",
    "import transformers\n",
    "import torch\n",
    "import random\n",
    "import json\n",
    "import re\n",
    "\n",
    "model = \"meta-llama/Llama-2-7b-chat-hf\"\n",
    "\n",
    "tokenizer = AutoTokenizer.from_pretrained(model)\n",
    "pipeline = transformers.pipeline(\n",
    "    \"text-generation\",\n",
    "    model=model,\n",
    "    torch_dtype=torch.float16,\n",
    "    device_map=\"auto\",\n",
    ")\n",
    "\n",
    "samp = \"\"\"I will give you a prompt. Generate 6 to 7 pairs of questions and answers from this prompt. You can include question about what attributes mentioned in the prompt such as shape, size, color etc. Think of these questions in such a way that their answers complete the description of the prompt and can be used to make an image through the features described in it. As an example, look at this prompt and the question answer pair generated for it:\n",
    "Prompt: a little girl embroidery, fine art, muted background, calm colore. oil paiting by jan vermeer, masterpiese Question-Answer pair to be generated: Q. What is the object? A. The object is an embroidery of a little girl Q. What is the background color? A. The background is muted  Q.What type of painting is it? A. It is an oil painting. Q.Who is the painter? A. Jan Vermeer is the painter Generate similar question answer pairs for the following prompt:\"\"\"\n",
    "\n",
    "# Initialize the final output dictionary\n",
    "final_output = {}\n",
    "\n",
    "for index in range(len(my_1k_data['image'])):\n",
    "\n",
    "    sequences = pipeline(\n",
    "        samp + my_1k_data['prompt'][index] + \"Question-Answer pair to be generated:\",\n",
    "        do_sample=False,\n",
    "        top_k=50,\n",
    "        num_return_sequences=1,\n",
    "        eos_token_id=tokenizer.eos_token_id,\n",
    "        max_new_tokens=512,\n",
    "        temperature=1e-05,\n",
    "        top_p=1,\n",
    "        repetition_penalty=1.0,\n",
    "        length_penalty=1\n",
    "    )\n",
    "\n",
    "    text = sequences[0]['generated_text']\n",
    "\n",
    "    input_text = text.split('Question-Answer pair to be generated:')\n",
    "    \n",
    "    qa_dict = {}\n",
    "    for i in range(2, len(input_text), 2):\n",
    "        questions = re.findall(r'Q\\..*?\\?', input_text[i])\n",
    "        answers = re.findall(r'A\\..*?(?=(?:Q\\.|$))', input_text[i])\n",
    "\n",
    "        for question, answer in zip(questions, answers):\n",
    "            qa_dict[question.strip()] = answer.strip()\n",
    "\n",
    "    final_output[index] = {\n",
    "        'image': my_1k_data['image'][index],\n",
    "        'prompt': my_1k_data['prompt'][index],\n",
    "        'qa_pairs': qa_dict\n",
    "    }\n",
    "\n",
    "print(final_output)\n"
   ]
  },
  {
   "cell_type": "code",
   "execution_count": null,
   "id": "a4cb80e3-ac03-4f53-a2ac-611b4fe39534",
   "metadata": {},
   "outputs": [],
   "source": [
    "################################################################"
   ]
  },
  {
   "cell_type": "code",
   "execution_count": null,
   "id": "fd7c52f0-d2a5-4c21-8c61-a1282b18b4ce",
   "metadata": {},
   "outputs": [],
   "source": [
    "################################################################"
   ]
  },
  {
   "cell_type": "code",
   "execution_count": null,
   "id": "71fb47c9-b391-4b0a-b9cd-5136a0cd77e0",
   "metadata": {},
   "outputs": [],
   "source": [
    "#Blip for 10 images test from (final_output) dictionary"
   ]
  },
  {
   "cell_type": "code",
   "execution_count": 7,
   "id": "892d8b86-4219-487c-aa3b-dd6d6b0418f4",
   "metadata": {},
   "outputs": [
    {
     "data": {
      "text/plain": [
       "{0: {'image': <PIL.PngImagePlugin.PngImageFile image mode=RGB size=512x768>,\n",
       "  'prompt': 'a renaissance portrait of dwayne johnson, art in the style of rembrandt!! intricate. ultra detailed, oil on canvas, wet - on - wet technique, pay attention to facial details, highly realistic, cinematic lightning, intricate textures, illusionistic detail, ',\n",
       "  'qa_pairs': {'Q. What is the subject of the portrait?': 'A. The subject of the portrait is Dwayne Johnson',\n",
       "   'Q. What is the style of the painting?': 'A. The painting is in the style of Rembrandt',\n",
       "   'Q. What is the medium used in the painting?': 'A. The medium used in the painting is oil on canvas',\n",
       "   'Q. What is the technique used in the painting?': 'A. The technique used in the painting is wet-on-wet',\n",
       "   'Q. What is the level of realism in the painting?': 'A. The level of realism in the painting is highly realistic',\n",
       "   'Q. What is the lighting effect in the painting?': 'A. The lighting effect in the painting is cinematic lightning',\n",
       "   'Q. What are the textures like in the painting?': 'A. The textures in the painting are intricate',\n",
       "   'Q. What is the level of detail in the painting?': 'A. The level of detail in the painting is highly intricate and illusionistic.'}},\n",
       " 1: {'image': <PIL.PngImagePlugin.PngImageFile image mode=RGB size=512x640>,\n",
       "  'prompt': 'portrait of a dancing eagle woman, beautiful blonde haired lakota sioux goddess, intricate, highly detailed art by james jean, ray tracing, digital painting, artstation, concept art, smooth, sharp focus, illustration, artgerm and greg rutkowski and alphonse mucha, vladimir kush, giger, 8 k ',\n",
       "  'qa_pairs': {'Q. What is the subject of the artwork?': 'A. The subject is a portrait of a dancing eagle woman.',\n",
       "   'Q. Who is the artist?': 'A. James Jean is the artist.',\n",
       "   'Q. What is the medium used in the artwork?': 'A. Digital painting is used in the artwork.',\n",
       "   'Q. What is the level of detail in the artwork?': 'A. The level of detail is highly detailed.',\n",
       "   'Q. What is the focus of the artwork?': 'A. The focus is smooth and sharp.',\n",
       "   'Q. What is the style of the artwork?': 'A. The style is illustration.',\n",
       "   'Q. Who are some of the artists that have inspired the artist?': 'A. Artists such as Alphonse Mucha, Vladimir Kush, and H.R. Giger have inspired the artist.'}},\n",
       " 2: {'image': <PIL.PngImagePlugin.PngImageFile image mode=RGB size=512x768>,\n",
       "  'prompt': 'epic 3 d, become legend shiji! gpu mecha controlled by telepathic hackers, made of liquid, bubbles, crystals, and mangroves, houdini sidefx, perfect render, artstation trending, by jeremy mann, tsutomi nihei and ilya kuvshinov ',\n",
       "  'qa_pairs': {'Q. What is the object?': 'A. The object is a 3D mecha controlled by telepathic hackers.',\n",
       "   'Q. What is the material of the mecha?': 'A. The mecha is made of liquid, bubbles, crystals, and mangroves.',\n",
       "   'Q. What software is used to create the render?': 'A. Houdini and SideFX are used to create the render.'}}}"
      ]
     },
     "execution_count": 7,
     "metadata": {},
     "output_type": "execute_result"
    }
   ],
   "source": [
    "final_output"
   ]
  },
  {
   "cell_type": "code",
   "execution_count": 8,
   "id": "9b34d993-96f9-47bf-abf5-8cd9516ea959",
   "metadata": {},
   "outputs": [
    {
     "name": "stdout",
     "output_type": "stream",
     "text": [
      "{0: {'image': <PIL.PngImagePlugin.PngImageFile image mode=RGB size=512x768 at 0x155363110950>, 'prompt': 'a renaissance portrait of dwayne johnson, art in the style of rembrandt!! intricate. ultra detailed, oil on canvas, wet - on - wet technique, pay attention to facial details, highly realistic, cinematic lightning, intricate textures, illusionistic detail, ', 'qa_pairs': {'Q. What is the subject of the portrait?': 'A. The subject of the portrait is Dwayne Johnson', 'Q. What is the style of the painting?': 'A. The painting is in the style of Rembrandt', 'Q. What is the medium used in the painting?': 'A. The medium used in the painting is oil on canvas', 'Q. What is the technique used in the painting?': 'A. The technique used in the painting is wet-on-wet', 'Q. What is the level of realism in the painting?': 'A. The level of realism in the painting is highly realistic', 'Q. What is the lighting effect in the painting?': 'A. The lighting effect in the painting is cinematic lightning', 'Q. What are the textures like in the painting?': 'A. The textures in the painting are intricate', 'Q. What is the level of detail in the painting?': 'A. The level of detail in the painting is highly intricate and illusionistic.'}, 'questions': ['What is the subject of the portrait?', 'What is the style of the painting?', 'What is the medium used in the painting?', 'What is the technique used in the painting?', 'What is the level of realism in the painting?', 'What is the lighting effect in the painting?', 'What are the textures like in the painting?', 'What is the level of detail in the painting?']}, 1: {'image': <PIL.PngImagePlugin.PngImageFile image mode=RGB size=512x640 at 0x155363159890>, 'prompt': 'portrait of a dancing eagle woman, beautiful blonde haired lakota sioux goddess, intricate, highly detailed art by james jean, ray tracing, digital painting, artstation, concept art, smooth, sharp focus, illustration, artgerm and greg rutkowski and alphonse mucha, vladimir kush, giger, 8 k ', 'qa_pairs': {'Q. What is the subject of the artwork?': 'A. The subject is a portrait of a dancing eagle woman.', 'Q. Who is the artist?': 'A. James Jean is the artist.', 'Q. What is the medium used in the artwork?': 'A. Digital painting is used in the artwork.', 'Q. What is the level of detail in the artwork?': 'A. The level of detail is highly detailed.', 'Q. What is the focus of the artwork?': 'A. The focus is smooth and sharp.', 'Q. What is the style of the artwork?': 'A. The style is illustration.', 'Q. Who are some of the artists that have inspired the artist?': 'A. Artists such as Alphonse Mucha, Vladimir Kush, and H.R. Giger have inspired the artist.'}, 'questions': ['What is the subject of the artwork?', 'Who is the artist?', 'What is the medium used in the artwork?', 'What is the level of detail in the artwork?', 'What is the focus of the artwork?', 'What is the style of the artwork?', 'Who are some of the artists that have inspired the artist?']}, 2: {'image': <PIL.PngImagePlugin.PngImageFile image mode=RGB size=512x768 at 0x15536318A310>, 'prompt': 'epic 3 d, become legend shiji! gpu mecha controlled by telepathic hackers, made of liquid, bubbles, crystals, and mangroves, houdini sidefx, perfect render, artstation trending, by jeremy mann, tsutomi nihei and ilya kuvshinov ', 'qa_pairs': {'Q. What is the object?': 'A. The object is a 3D mecha controlled by telepathic hackers.', 'Q. What is the material of the mecha?': 'A. The mecha is made of liquid, bubbles, crystals, and mangroves.', 'Q. What software is used to create the render?': 'A. Houdini and SideFX are used to create the render.'}, 'questions': ['What is the object?', 'What is the material of the mecha?', 'What software is used to create the render?']}}\n"
     ]
    }
   ],
   "source": [
    "for key, value in final_output.items():\n",
    "    questions_list = [re.sub(r'^Q\\. ', '', question) for question in value['qa_pairs'].keys() if question.startswith('Q.') and question.endswith('?')]\n",
    "    final_output[key]['questions'] = questions_list\n",
    "\n",
    "# Print the updated final_output\n",
    "print(final_output)"
   ]
  },
  {
   "cell_type": "code",
   "execution_count": 12,
   "id": "bf50a616-987b-488a-acb1-76dd59e82a79",
   "metadata": {},
   "outputs": [
    {
     "name": "stderr",
     "output_type": "stream",
     "text": [
      "/home/amudra/.local/lib/python3.11/site-packages/transformers/generation/configuration_utils.py:386: UserWarning: `do_sample` is set to `False`. However, `top_p` is set to `0.9` -- this flag is only used in sample-based generation modes. You should set `do_sample=True` or unset `top_p`.\n",
      "  warnings.warn(\n"
     ]
    },
    {
     "name": "stdout",
     "output_type": "stream",
     "text": [
      "What is the subject of the portrait? The subject of the portrait is a bald man. \n",
      "\n",
      "The style of the painting is realistic. \n",
      "\n",
      "The medium used in the painting is oil on canvas. \n",
      "\n",
      "The technique used in the painting is oil painting. \n",
      "\n",
      "The level of realism in the painting is high. \n",
      "\n",
      "The lighting effect in the painting is dramatic, with a strong contrast between light and dark areas. \n",
      "\n",
      "The textures in the painting are smooth and well-defined. \n",
      "\n",
      "The level of detail in the painting is impressive, showcasing the artist's skill and attention to detail.\n"
     ]
    }
   ],
   "source": [
    "# device = \"cuda\" if torch.cuda.is_available() else \"cpu\"\n",
    "# model.to(device)\n",
    "# # url = \"https://raw.githubusercontent.com/salesforce/LAVIS/main/docs/_static/Confusing-Pictures.jpg\"\n",
    "# # image = Image.open(requests.get(url, stream=True).raw).convert(\"RGB\")\n",
    "# image = my_1k_data['image'][0]\n",
    "# # prompttemplate = \"Here are some  questions about the Image try to answer them :\"\n",
    "# # prompttemplate = \"What is the subject of the portrait? What is the technique used in the painting?\"\n",
    "# # string = \"1. What is the dragon's physical appearance?2. What is the dragon's wing type?3. What is the dragon's body scale type?4. What is the dragon's wing color?5. What is the dragon's body color?6. What is the dragon's overall appearance?7. What is the dragon's size?8. What is the dragon's habitat?9. What is the dragon's behavior?10. What is the dragon's personality?\"\n",
    "# string = \"What is the subject of the portrait? What is the style of the painting? What is the medium used in the painting? What is the technique used in the painting?What is the level of realism in the painting?What is the lighting effect in the painting? What are the textures like in the painting? What is the level of detail in the painting?\"\n",
    "# # What is the level of realism in the painting?, What is the lighting effect in the painting?, What are the textures like in the painting?, What is the level of detail in the painting?\"\n",
    "# # inst = \"answer each question separately\"\n",
    "# # Q. What is the technique used in the painting?, Q. What is the level of realism in the painting?, Q. What is the lighting effect in the painting?, Q. What are the textures like in the painting?, Q. What is the level of detail in the painting?\"\n",
    "\n",
    "# # inputs = processor(images=image, text=prompttemplate + modified_string, return_tensors=\"pt\").to(device)\n",
    "# inputs = processor(images=image, text= string , return_tensors=\"pt\").to(device)\n",
    "\n",
    "# outputs = model.generate(\n",
    "#     **inputs,\n",
    "#     do_sample=False,\n",
    "#     num_beams=5,\n",
    "#     max_length=256,\n",
    "#     min_length=1,\n",
    "#     top_p=0.9,\n",
    "#     repetition_penalty=1.5,\n",
    "#     length_penalty=1.0,\n",
    "#     temperature=1,\n",
    "# )\n",
    "# generated_text = processor.batch_decode(outputs, skip_special_tokens=True)[0].strip()\n",
    "# print(generated_text)"
   ]
  },
  {
   "cell_type": "code",
   "execution_count": 13,
   "id": "745cbdc1-5de3-4132-9899-f071b6b8c4b8",
   "metadata": {},
   "outputs": [
    {
     "data": {
      "text/plain": [
       "\"What is the subject of the portrait? The subject of the portrait is a bald man. \\n\\nThe style of the painting is realistic. \\n\\nThe medium used in the painting is oil on canvas. \\n\\nThe technique used in the painting is oil painting. \\n\\nThe level of realism in the painting is high. \\n\\nThe lighting effect in the painting is dramatic, with a strong contrast between light and dark areas. \\n\\nThe textures in the painting are smooth and well-defined. \\n\\nThe level of detail in the painting is impressive, showcasing the artist's skill and attention to detail.\""
      ]
     },
     "execution_count": 13,
     "metadata": {},
     "output_type": "execute_result"
    }
   ],
   "source": [
    "# generated_text"
   ]
  },
  {
   "cell_type": "code",
   "execution_count": 14,
   "id": "c19dff2d-c3c2-4c5f-b3c6-1e1163180c10",
   "metadata": {},
   "outputs": [
    {
     "name": "stdout",
     "output_type": "stream",
     "text": [
      "Frida Kahlo, Salvador Dali, Gustav Klimt\n"
     ]
    }
   ],
   "source": [
    "# device = \"cuda\" if torch.cuda.is_available() else \"cpu\"\n",
    "# model.to(device)\n",
    "# # url = \"https://raw.githubusercontent.com/salesforce/LAVIS/main/docs/_static/Confusing-Pictures.jpg\"\n",
    "# # image = Image.open(requests.get(url, stream=True).raw).convert(\"RGB\")\n",
    "# image = my_1k_data['image'][1]\n",
    "# # prompttemplate = \"Here are some  questions about the Image try to answer them :\"\n",
    "# # prompttemplate = \"What is the subject of the portrait? What is the technique used in the painting?\"\n",
    "# # string = \"1. What is the dragon's physical appearance?2. What is the dragon's wing type?3. What is the dragon's body scale type?4. What is the dragon's wing color?5. What is the dragon's body color?6. What is the dragon's overall appearance?7. What is the dragon's size?8. What is the dragon's habitat?9. What is the dragon's behavior?10. What is the dragon's personality?\"\n",
    "# # string = \"What is the subject of the portrait? What is the style of the painting? What is the medium used in the painting? What is the technique used in the painting?What is the level of realism in the painting?What is the lighting effect in the painting? What are the textures like in the painting? What is the level of detail in the painting?\"\n",
    "# # What is the level of realism in the painting?, What is the lighting effect in the painting?, What are the textures like in the painting?, What is the level of detail in the painting?\"\n",
    "# # inst = \"answer each question separately\"\n",
    "# # Q. What is the technique used in the painting?, Q. What is the level of realism in the painting?, Q. What is the lighting effect in the painting?, Q. What are the textures like in the painting?, Q. What is the level of detail in the painting?\"\n",
    "\n",
    "# string = \" Who are some of the artists that have inspired the artist?\"\n",
    "\n",
    "# # inputs = processor(images=image, text=prompttemplate + modified_string, return_tensors=\"pt\").to(device)\n",
    "# inputs = processor(images=image, text= string , return_tensors=\"pt\").to(device)\n",
    "\n",
    "# outputs = model.generate(\n",
    "#     **inputs,\n",
    "#     do_sample=False,\n",
    "#     num_beams=5,\n",
    "#     max_length=256,\n",
    "#     min_length=1,\n",
    "#     top_p=0.9,\n",
    "#     repetition_penalty=1.5,\n",
    "#     length_penalty=1.0,\n",
    "#     temperature=1,\n",
    "# )\n",
    "# generated_text = processor.batch_decode(outputs, skip_special_tokens=True)[0].strip()\n",
    "# print(generated_text)"
   ]
  },
  {
   "cell_type": "code",
   "execution_count": 15,
   "id": "3886ba19-acd8-496c-909e-95c57d854a90",
   "metadata": {},
   "outputs": [
    {
     "data": {
      "text/plain": [
       "'Frida Kahlo, Salvador Dali, Gustav Klimt'"
      ]
     },
     "execution_count": 15,
     "metadata": {},
     "output_type": "execute_result"
    }
   ],
   "source": [
    "# generated_text"
   ]
  },
  {
   "cell_type": "code",
   "execution_count": 9,
   "id": "0df95698-0100-46a1-9700-e71c8cc33ee4",
   "metadata": {},
   "outputs": [
    {
     "data": {
      "application/vnd.jupyter.widget-view+json": {
       "model_id": "f3d8e21a0e104a5f9e6f79e0b855c6eb",
       "version_major": 2,
       "version_minor": 0
      },
      "text/plain": [
       "Loading checkpoint shards:   0%|          | 0/4 [00:00<?, ?it/s]"
      ]
     },
     "metadata": {},
     "output_type": "display_data"
    },
    {
     "name": "stdout",
     "output_type": "stream",
     "text": [
      "What is the subject of the portrait?\n"
     ]
    },
    {
     "name": "stderr",
     "output_type": "stream",
     "text": [
      "/home/amudra/.local/lib/python3.11/site-packages/transformers/generation/configuration_utils.py:386: UserWarning: `do_sample` is set to `False`. However, `top_p` is set to `0.9` -- this flag is only used in sample-based generation modes. You should set `do_sample=True` or unset `top_p`.\n",
      "  warnings.warn(\n"
     ]
    },
    {
     "name": "stdout",
     "output_type": "stream",
     "text": [
      "The subject of the portrait is a bald man.\n",
      "What is the style of the painting?\n",
      "The style of the painting is oil on canvas.\n",
      "What is the medium used in the painting?\n",
      "The medium used in the painting is oil on canvas.\n",
      "What is the technique used in the painting?\n",
      "The technique used in the painting is oil painting.\n",
      "What is the level of realism in the painting?\n",
      "The level of realism in the painting is high.\n",
      "What is the lighting effect in the painting?\n",
      "The lighting effect in the painting is a combination of natural and artificial lighting. The man's face appears to be illuminated by both sunlight and artificial light sources, such as lamps or spotlights.\n",
      "What are the textures like in the painting?\n",
      "The textures in the painting are very realistic and lifelike, capturing the details of the man's skin, hair, and facial features.\n",
      "What is the level of detail in the painting?\n",
      "The level of detail in the painting is quite high, as it depicts a close-up view of a bald man's face. The painting captures the intricate details of the man's facial features, including his eyes, eyebrows, and beard.\n",
      "What is the subject of the artwork?\n",
      "The subject of the artwork is a woman.\n",
      "Who is the artist?\n",
      "unknown\n",
      "What is the medium used in the artwork?\n",
      "The medium used in the artwork is digital.\n",
      "What is the level of detail in the artwork?\n",
      "The level of detail in the artwork is quite high, as it features an intricate and ornate headpiece adorned with feathers, beads, and other decorative elements. Additionally, the woman in the artwork is wearing elaborate jewelry, which adds to the overall level of detail in the piece.\n",
      "What is the focus of the artwork?\n",
      "The focus of the artwork is a woman wearing an elaborate headdress and jewelry.\n",
      "What is the style of the artwork?\n",
      "The style of the artwork is surrealism.\n",
      "Who are some of the artists that have inspired the artist?\n",
      "Frida Kahlo, Alexander McQueen, Alexander McQueen, Alexander McQueen, Alexander McQueen, Alexander McQueen, Alexander McQueen, Alexander McQueen, Alexander McQueen, Alexander McQueen, Alexander McQueen, Alexander McQueen, Alexander McQueen, Alexander McQueen, Alexander McQueen, Alexander McQueen, Alexander McQueen, Alexander McQueen, Alexander McQueen, Alexander McQueen, Alexander McQueen, Alexander McQueen, Alexander McQueen, Alexander McQueen, Alexander McQueen, Alexander McQueen, Alexander McQueen, Alexander McQueen, Alexander McQueen, Alexander McQueen, Alexander McQueen, Alexander McQueen, Alexander McQueen, Alexander McQueen, Alexander McQueen, Alexander McQueen, Alexander McQueen, Alexander McQueen, Alexander McQueen, Alexander McQueen, Alexander McQueen, Alexander McQueen, Alexander McQueen, Alexander McQueen, Alexander McQueen, Alexander McQueen, Alexander McQueen, Alexander McQueen, Alexander McQueen, Alexander McQueen, Alexander McQueen\n",
      "What is the object?\n",
      "The object is a futuristic robot.\n",
      "What is the material of the mecha?\n",
      "The material of the mecha is metal and plastic.\n",
      "What software is used to create the render?\n",
      "3ds max\n",
      "{0: {'image': <PIL.PngImagePlugin.PngImageFile image mode=RGB size=512x768 at 0x155363110950>, 'prompt': 'a renaissance portrait of dwayne johnson, art in the style of rembrandt!! intricate. ultra detailed, oil on canvas, wet - on - wet technique, pay attention to facial details, highly realistic, cinematic lightning, intricate textures, illusionistic detail, ', 'qa_pairs': {'Q. What is the subject of the portrait?': 'A. The subject of the portrait is Dwayne Johnson', 'Q. What is the style of the painting?': 'A. The painting is in the style of Rembrandt', 'Q. What is the medium used in the painting?': 'A. The medium used in the painting is oil on canvas', 'Q. What is the technique used in the painting?': 'A. The technique used in the painting is wet-on-wet', 'Q. What is the level of realism in the painting?': 'A. The level of realism in the painting is highly realistic', 'Q. What is the lighting effect in the painting?': 'A. The lighting effect in the painting is cinematic lightning', 'Q. What are the textures like in the painting?': 'A. The textures in the painting are intricate', 'Q. What is the level of detail in the painting?': 'A. The level of detail in the painting is highly intricate and illusionistic.'}, 'questions': ['What is the subject of the portrait?', 'What is the style of the painting?', 'What is the medium used in the painting?', 'What is the technique used in the painting?', 'What is the level of realism in the painting?', 'What is the lighting effect in the painting?', 'What are the textures like in the painting?', 'What is the level of detail in the painting?'], 'answers_blip': {'What is the subject of the portrait?': 'The subject of the portrait is a bald man.', 'What is the style of the painting?': 'The style of the painting is oil on canvas.', 'What is the medium used in the painting?': 'The medium used in the painting is oil on canvas.', 'What is the technique used in the painting?': 'The technique used in the painting is oil painting.', 'What is the level of realism in the painting?': 'The level of realism in the painting is high.', 'What is the lighting effect in the painting?': \"The lighting effect in the painting is a combination of natural and artificial lighting. The man's face appears to be illuminated by both sunlight and artificial light sources, such as lamps or spotlights.\", 'What are the textures like in the painting?': \"The textures in the painting are very realistic and lifelike, capturing the details of the man's skin, hair, and facial features.\", 'What is the level of detail in the painting?': \"The level of detail in the painting is quite high, as it depicts a close-up view of a bald man's face. The painting captures the intricate details of the man's facial features, including his eyes, eyebrows, and beard.\"}}, 1: {'image': <PIL.PngImagePlugin.PngImageFile image mode=RGB size=512x640 at 0x155363159890>, 'prompt': 'portrait of a dancing eagle woman, beautiful blonde haired lakota sioux goddess, intricate, highly detailed art by james jean, ray tracing, digital painting, artstation, concept art, smooth, sharp focus, illustration, artgerm and greg rutkowski and alphonse mucha, vladimir kush, giger, 8 k ', 'qa_pairs': {'Q. What is the subject of the artwork?': 'A. The subject is a portrait of a dancing eagle woman.', 'Q. Who is the artist?': 'A. James Jean is the artist.', 'Q. What is the medium used in the artwork?': 'A. Digital painting is used in the artwork.', 'Q. What is the level of detail in the artwork?': 'A. The level of detail is highly detailed.', 'Q. What is the focus of the artwork?': 'A. The focus is smooth and sharp.', 'Q. What is the style of the artwork?': 'A. The style is illustration.', 'Q. Who are some of the artists that have inspired the artist?': 'A. Artists such as Alphonse Mucha, Vladimir Kush, and H.R. Giger have inspired the artist.'}, 'questions': ['What is the subject of the artwork?', 'Who is the artist?', 'What is the medium used in the artwork?', 'What is the level of detail in the artwork?', 'What is the focus of the artwork?', 'What is the style of the artwork?', 'Who are some of the artists that have inspired the artist?'], 'answers_blip': {'What is the subject of the artwork?': 'The subject of the artwork is a woman.', 'Who is the artist?': 'unknown', 'What is the medium used in the artwork?': 'The medium used in the artwork is digital.', 'What is the level of detail in the artwork?': 'The level of detail in the artwork is quite high, as it features an intricate and ornate headpiece adorned with feathers, beads, and other decorative elements. Additionally, the woman in the artwork is wearing elaborate jewelry, which adds to the overall level of detail in the piece.', 'What is the focus of the artwork?': 'The focus of the artwork is a woman wearing an elaborate headdress and jewelry.', 'What is the style of the artwork?': 'The style of the artwork is surrealism.', 'Who are some of the artists that have inspired the artist?': 'Frida Kahlo, Alexander McQueen, Alexander McQueen, Alexander McQueen, Alexander McQueen, Alexander McQueen, Alexander McQueen, Alexander McQueen, Alexander McQueen, Alexander McQueen, Alexander McQueen, Alexander McQueen, Alexander McQueen, Alexander McQueen, Alexander McQueen, Alexander McQueen, Alexander McQueen, Alexander McQueen, Alexander McQueen, Alexander McQueen, Alexander McQueen, Alexander McQueen, Alexander McQueen, Alexander McQueen, Alexander McQueen, Alexander McQueen, Alexander McQueen, Alexander McQueen, Alexander McQueen, Alexander McQueen, Alexander McQueen, Alexander McQueen, Alexander McQueen, Alexander McQueen, Alexander McQueen, Alexander McQueen, Alexander McQueen, Alexander McQueen, Alexander McQueen, Alexander McQueen, Alexander McQueen, Alexander McQueen, Alexander McQueen, Alexander McQueen, Alexander McQueen, Alexander McQueen, Alexander McQueen, Alexander McQueen, Alexander McQueen, Alexander McQueen, Alexander McQueen'}}, 2: {'image': <PIL.PngImagePlugin.PngImageFile image mode=RGB size=512x768 at 0x15536318A310>, 'prompt': 'epic 3 d, become legend shiji! gpu mecha controlled by telepathic hackers, made of liquid, bubbles, crystals, and mangroves, houdini sidefx, perfect render, artstation trending, by jeremy mann, tsutomi nihei and ilya kuvshinov ', 'qa_pairs': {'Q. What is the object?': 'A. The object is a 3D mecha controlled by telepathic hackers.', 'Q. What is the material of the mecha?': 'A. The mecha is made of liquid, bubbles, crystals, and mangroves.', 'Q. What software is used to create the render?': 'A. Houdini and SideFX are used to create the render.'}, 'questions': ['What is the object?', 'What is the material of the mecha?', 'What software is used to create the render?'], 'answers_blip': {'What is the object?': 'The object is a futuristic robot.', 'What is the material of the mecha?': 'The material of the mecha is metal and plastic.', 'What software is used to create the render?': '3ds max'}}}\n"
     ]
    }
   ],
   "source": [
    "from transformers import InstructBlipProcessor, InstructBlipForConditionalGeneration\n",
    "import torch\n",
    "from PIL import Image\n",
    "import requests\n",
    "\n",
    "torch.manual_seed(0)\n",
    "np.random.seed(0)\n",
    "\n",
    "# device = \"cuda\" if torch.cuda.is_available() else \"cpu\"\n",
    "model = InstructBlipForConditionalGeneration.from_pretrained(\"Salesforce/instructblip-vicuna-7b\")\n",
    "processor = InstructBlipProcessor.from_pretrained(\"Salesforce/instructblip-vicuna-7b\")\n",
    "\n",
    "for key, value in final_output.items():\n",
    "    image = value['image']\n",
    "    # display(image)\n",
    "    questions = value.get('questions', [])\n",
    "    # print(questions)\n",
    "\n",
    "    # Loop over each question for the current image\n",
    "    for question in questions:\n",
    "        string = question\n",
    "        print(string)\n",
    "        # prompt = \"answer this question about the image: \"\n",
    "        inputs = processor(images=image, text=string, return_tensors=\"pt\")\n",
    "\n",
    "        outputs = model.generate(\n",
    "            **inputs,\n",
    "            do_sample=False,\n",
    "            num_beams=5,\n",
    "            max_length=256,\n",
    "            min_length=1,\n",
    "            top_p=0.9,\n",
    "            repetition_penalty=1.5,\n",
    "            length_penalty=1.0,\n",
    "            temperature=1,\n",
    "        )\n",
    "\n",
    "        generated_text = processor.batch_decode(outputs, skip_special_tokens=True)[0].strip()\n",
    "        print(generated_text)\n",
    "\n",
    "        \n",
    "        if 'answers_blip' not in value:\n",
    "            value['answers_blip'] = {}\n",
    "        value['answers_blip'][question] = generated_text\n",
    "\n",
    "# Print the updated final_output\n",
    "print(final_output)"
   ]
  },
  {
   "cell_type": "code",
   "execution_count": 10,
   "id": "4fdcebc8-8607-486a-b7db-57d6ba8206d8",
   "metadata": {},
   "outputs": [
    {
     "data": {
      "text/plain": [
       "{0: {'image': <PIL.PngImagePlugin.PngImageFile image mode=RGB size=512x768>,\n",
       "  'prompt': 'a renaissance portrait of dwayne johnson, art in the style of rembrandt!! intricate. ultra detailed, oil on canvas, wet - on - wet technique, pay attention to facial details, highly realistic, cinematic lightning, intricate textures, illusionistic detail, ',\n",
       "  'qa_pairs': {'Q. What is the subject of the portrait?': 'A. The subject of the portrait is Dwayne Johnson',\n",
       "   'Q. What is the style of the painting?': 'A. The painting is in the style of Rembrandt',\n",
       "   'Q. What is the medium used in the painting?': 'A. The medium used in the painting is oil on canvas',\n",
       "   'Q. What is the technique used in the painting?': 'A. The technique used in the painting is wet-on-wet',\n",
       "   'Q. What is the level of realism in the painting?': 'A. The level of realism in the painting is highly realistic',\n",
       "   'Q. What is the lighting effect in the painting?': 'A. The lighting effect in the painting is cinematic lightning',\n",
       "   'Q. What are the textures like in the painting?': 'A. The textures in the painting are intricate',\n",
       "   'Q. What is the level of detail in the painting?': 'A. The level of detail in the painting is highly intricate and illusionistic.'},\n",
       "  'questions': ['What is the subject of the portrait?',\n",
       "   'What is the style of the painting?',\n",
       "   'What is the medium used in the painting?',\n",
       "   'What is the technique used in the painting?',\n",
       "   'What is the level of realism in the painting?',\n",
       "   'What is the lighting effect in the painting?',\n",
       "   'What are the textures like in the painting?',\n",
       "   'What is the level of detail in the painting?'],\n",
       "  'answers_blip': {'What is the subject of the portrait?': 'The subject of the portrait is a bald man.',\n",
       "   'What is the style of the painting?': 'The style of the painting is oil on canvas.',\n",
       "   'What is the medium used in the painting?': 'The medium used in the painting is oil on canvas.',\n",
       "   'What is the technique used in the painting?': 'The technique used in the painting is oil painting.',\n",
       "   'What is the level of realism in the painting?': 'The level of realism in the painting is high.',\n",
       "   'What is the lighting effect in the painting?': \"The lighting effect in the painting is a combination of natural and artificial lighting. The man's face appears to be illuminated by both sunlight and artificial light sources, such as lamps or spotlights.\",\n",
       "   'What are the textures like in the painting?': \"The textures in the painting are very realistic and lifelike, capturing the details of the man's skin, hair, and facial features.\",\n",
       "   'What is the level of detail in the painting?': \"The level of detail in the painting is quite high, as it depicts a close-up view of a bald man's face. The painting captures the intricate details of the man's facial features, including his eyes, eyebrows, and beard.\"}},\n",
       " 1: {'image': <PIL.PngImagePlugin.PngImageFile image mode=RGB size=512x640>,\n",
       "  'prompt': 'portrait of a dancing eagle woman, beautiful blonde haired lakota sioux goddess, intricate, highly detailed art by james jean, ray tracing, digital painting, artstation, concept art, smooth, sharp focus, illustration, artgerm and greg rutkowski and alphonse mucha, vladimir kush, giger, 8 k ',\n",
       "  'qa_pairs': {'Q. What is the subject of the artwork?': 'A. The subject is a portrait of a dancing eagle woman.',\n",
       "   'Q. Who is the artist?': 'A. James Jean is the artist.',\n",
       "   'Q. What is the medium used in the artwork?': 'A. Digital painting is used in the artwork.',\n",
       "   'Q. What is the level of detail in the artwork?': 'A. The level of detail is highly detailed.',\n",
       "   'Q. What is the focus of the artwork?': 'A. The focus is smooth and sharp.',\n",
       "   'Q. What is the style of the artwork?': 'A. The style is illustration.',\n",
       "   'Q. Who are some of the artists that have inspired the artist?': 'A. Artists such as Alphonse Mucha, Vladimir Kush, and H.R. Giger have inspired the artist.'},\n",
       "  'questions': ['What is the subject of the artwork?',\n",
       "   'Who is the artist?',\n",
       "   'What is the medium used in the artwork?',\n",
       "   'What is the level of detail in the artwork?',\n",
       "   'What is the focus of the artwork?',\n",
       "   'What is the style of the artwork?',\n",
       "   'Who are some of the artists that have inspired the artist?'],\n",
       "  'answers_blip': {'What is the subject of the artwork?': 'The subject of the artwork is a woman.',\n",
       "   'Who is the artist?': 'unknown',\n",
       "   'What is the medium used in the artwork?': 'The medium used in the artwork is digital.',\n",
       "   'What is the level of detail in the artwork?': 'The level of detail in the artwork is quite high, as it features an intricate and ornate headpiece adorned with feathers, beads, and other decorative elements. Additionally, the woman in the artwork is wearing elaborate jewelry, which adds to the overall level of detail in the piece.',\n",
       "   'What is the focus of the artwork?': 'The focus of the artwork is a woman wearing an elaborate headdress and jewelry.',\n",
       "   'What is the style of the artwork?': 'The style of the artwork is surrealism.',\n",
       "   'Who are some of the artists that have inspired the artist?': 'Frida Kahlo, Alexander McQueen, Alexander McQueen, Alexander McQueen, Alexander McQueen, Alexander McQueen, Alexander McQueen, Alexander McQueen, Alexander McQueen, Alexander McQueen, Alexander McQueen, Alexander McQueen, Alexander McQueen, Alexander McQueen, Alexander McQueen, Alexander McQueen, Alexander McQueen, Alexander McQueen, Alexander McQueen, Alexander McQueen, Alexander McQueen, Alexander McQueen, Alexander McQueen, Alexander McQueen, Alexander McQueen, Alexander McQueen, Alexander McQueen, Alexander McQueen, Alexander McQueen, Alexander McQueen, Alexander McQueen, Alexander McQueen, Alexander McQueen, Alexander McQueen, Alexander McQueen, Alexander McQueen, Alexander McQueen, Alexander McQueen, Alexander McQueen, Alexander McQueen, Alexander McQueen, Alexander McQueen, Alexander McQueen, Alexander McQueen, Alexander McQueen, Alexander McQueen, Alexander McQueen, Alexander McQueen, Alexander McQueen, Alexander McQueen, Alexander McQueen'}},\n",
       " 2: {'image': <PIL.PngImagePlugin.PngImageFile image mode=RGB size=512x768>,\n",
       "  'prompt': 'epic 3 d, become legend shiji! gpu mecha controlled by telepathic hackers, made of liquid, bubbles, crystals, and mangroves, houdini sidefx, perfect render, artstation trending, by jeremy mann, tsutomi nihei and ilya kuvshinov ',\n",
       "  'qa_pairs': {'Q. What is the object?': 'A. The object is a 3D mecha controlled by telepathic hackers.',\n",
       "   'Q. What is the material of the mecha?': 'A. The mecha is made of liquid, bubbles, crystals, and mangroves.',\n",
       "   'Q. What software is used to create the render?': 'A. Houdini and SideFX are used to create the render.'},\n",
       "  'questions': ['What is the object?',\n",
       "   'What is the material of the mecha?',\n",
       "   'What software is used to create the render?'],\n",
       "  'answers_blip': {'What is the object?': 'The object is a futuristic robot.',\n",
       "   'What is the material of the mecha?': 'The material of the mecha is metal and plastic.',\n",
       "   'What software is used to create the render?': '3ds max'}}}"
      ]
     },
     "execution_count": 10,
     "metadata": {},
     "output_type": "execute_result"
    }
   ],
   "source": [
    "final_output"
   ]
  },
  {
   "cell_type": "code",
   "execution_count": null,
   "id": "da4e6f9c-f304-42c5-ba84-98c45fc0e5d7",
   "metadata": {},
   "outputs": [],
   "source": [
    "########################################################"
   ]
  },
  {
   "cell_type": "code",
   "execution_count": null,
   "id": "bfb3457e-f698-4ef5-98f3-cabd2c3ffdf2",
   "metadata": {},
   "outputs": [],
   "source": [
    "########################################################"
   ]
  },
  {
   "cell_type": "code",
   "execution_count": null,
   "id": "892eb6df-ee7e-4816-b722-f7e7ff1bc3e1",
   "metadata": {},
   "outputs": [],
   "source": [
    "########################################################"
   ]
  },
  {
   "cell_type": "code",
   "execution_count": null,
   "id": "1eea5148-51dd-4fc7-b3d2-e6dca22dbfa9",
   "metadata": {},
   "outputs": [],
   "source": [
    "#Complete run for 10 images "
   ]
  },
  {
   "cell_type": "code",
   "execution_count": null,
   "id": "855936a5-e5bb-42a0-8a7c-0a72b46ba88d",
   "metadata": {},
   "outputs": [],
   "source": [
    "samp = \"\"\"I will give you a prompt. Generate 6 to 7 pairs of questions and answers from this prompt. You can include question about what attributes mentioned in the prompt such as shape, size, color etc. Think of these questions in such a way that their answers complete the description of the prompt and can be used to make an image through the features described in it. As an example, look at this prompt and the question answer pair generated for it:\n",
    "Prompt: a little girl embroidery, fine art, muted background, calm colore. oil paiting by jan vermeer, masterpiese Question-Answer pair to be generated: Q. What is the object? A. The object is an embroidery of a little girl Q. What is the background color? A. The background is muted  Q.What type of painting is it? A. It is an oil painting. Q.Who is the painter? A. Jan Vermeer is the painter Generate similar question answer pairs for the following prompt:\"\"\"\n",
    "\n",
    "# Initialize the final output dictionary\n",
    "final_output = {}\n",
    "\n",
    "for index in range(min(10, len(my_1k_data['image']))):\n",
    "\n",
    "    sequences = pipeline(\n",
    "        samp + my_1k_data['prompt'][index] + \"Question-Answer pair to be generated:\",\n",
    "        do_sample=False,\n",
    "        top_k=50,\n",
    "        num_return_sequences=1,\n",
    "        eos_token_id=tokenizer.eos_token_id,\n",
    "        max_new_tokens=512,\n",
    "        temperature=1e-05,\n",
    "        top_p=1,\n",
    "        repetition_penalty=1.0,\n",
    "        length_penalty=1\n",
    "    )\n",
    "\n",
    "    text = sequences[0]['generated_text']\n",
    "\n",
    "    input_text = text.split('Question-Answer pair to be generated:')\n",
    "    \n",
    "    qa_dict = {}\n",
    "    for i in range(2, len(input_text), 2):\n",
    "        questions = re.findall(r'Q\\..*?\\?', input_text[i])\n",
    "        answers = re.findall(r'A\\..*?(?=(?:Q\\.|$))', input_text[i])\n",
    "\n",
    "        for question, answer in zip(questions, answers):\n",
    "            qa_dict[question.strip()] = answer.strip()\n",
    "\n",
    "    final_output[index] = {\n",
    "        'image': my_1k_data['image'][index],\n",
    "        'prompt': my_1k_data['prompt'][index],\n",
    "        'qa_pairs': qa_dict\n",
    "    }\n",
    "\n",
    "print(final_output)\n",
    "\n",
    "#Extracting questions\n",
    "for key, value in final_output.items():\n",
    "    questions_list = [re.sub(r'^Q\\. ', '', question) for question in value['qa_pairs'].keys() if question.startswith('Q.') and question.endswith('?')]\n",
    "    final_output[key]['questions'] = questions_list\n",
    "\n",
    "print(final_output)\n",
    "\n",
    "#Running InstructBlip\n",
    "from transformers import InstructBlipProcessor, InstructBlipForConditionalGeneration\n",
    "import torch\n",
    "from PIL import Image\n",
    "import requests\n",
    "\n",
    "torch.manual_seed(0)\n",
    "np.random.seed(0)\n",
    "\n",
    "# device = \"cuda\" if torch.cuda.is_available() else \"cpu\"\n",
    "model = InstructBlipForConditionalGeneration.from_pretrained(\"Salesforce/instructblip-vicuna-7b\")\n",
    "processor = InstructBlipProcessor.from_pretrained(\"Salesforce/instructblip-vicuna-7b\")\n",
    "\n",
    "for key, value in final_output.items():\n",
    "    image = value['image']\n",
    "    # display(image)\n",
    "    questions = value.get('questions', [])\n",
    "    # print(questions)\n",
    "\n",
    "    # Loop over each question for the current image\n",
    "    for question in questions:\n",
    "        string = question\n",
    "        print(string)\n",
    "        # prompt = \"answer this question about the image: \"\n",
    "        inputs = processor(images=image, text=string, return_tensors=\"pt\")\n",
    "\n",
    "        outputs = model.generate(\n",
    "            **inputs,\n",
    "            do_sample=False,\n",
    "            num_beams=5,\n",
    "            max_length=256,\n",
    "            min_length=1,\n",
    "            top_p=0.9,\n",
    "            repetition_penalty=1.5,\n",
    "            length_penalty=1.0,\n",
    "            temperature=1,\n",
    "        )\n",
    "\n",
    "        generated_text = processor.batch_decode(outputs, skip_special_tokens=True)[0].strip()\n",
    "        print(generated_text)\n",
    "\n",
    "        \n",
    "        if 'answers_blip' not in value:\n",
    "            value['answers_blip'] = {}\n",
    "        value['answers_blip'][question] = generated_text\n",
    "\n",
    "# Print the updated final_output\n",
    "print(final_output)"
   ]
  }
 ],
 "metadata": {
  "kernelspec": {
   "display_name": "Python 3 (ipykernel)",
   "language": "python",
   "name": "python3"
  },
  "language_info": {
   "codemirror_mode": {
    "name": "ipython",
    "version": 3
   },
   "file_extension": ".py",
   "mimetype": "text/x-python",
   "name": "python",
   "nbconvert_exporter": "python",
   "pygments_lexer": "ipython3",
   "version": "3.11.6"
  }
 },
 "nbformat": 4,
 "nbformat_minor": 5
}
