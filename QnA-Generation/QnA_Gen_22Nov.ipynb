{
 "cells": [
  {
   "cell_type": "code",
   "execution_count": 1,
   "id": "363dfa95-60b7-4e74-8e29-2807e3536bce",
   "metadata": {},
   "outputs": [
    {
     "name": "stdout",
     "output_type": "stream",
     "text": [
      "Defaulting to user installation because normal site-packages is not writeable\n",
      "Requirement already satisfied: huggingface_hub in ./.local/lib/python3.11/site-packages (0.17.3)\n",
      "Requirement already satisfied: filelock in ./.local/lib/python3.11/site-packages (from huggingface_hub) (3.12.4)\n",
      "Requirement already satisfied: fsspec in /packages/apps/jupyter/2023-10-09/lib/python3.11/site-packages (from huggingface_hub) (2023.9.2)\n",
      "Requirement already satisfied: requests in /packages/apps/jupyter/2023-10-09/lib/python3.11/site-packages (from huggingface_hub) (2.29.0)\n",
      "Requirement already satisfied: tqdm>=4.42.1 in /packages/apps/jupyter/2023-10-09/lib/python3.11/site-packages (from huggingface_hub) (4.65.0)\n",
      "Requirement already satisfied: pyyaml>=5.1 in /packages/apps/jupyter/2023-10-09/lib/python3.11/site-packages (from huggingface_hub) (6.0.1)\n",
      "Requirement already satisfied: typing-extensions>=3.7.4.3 in /packages/apps/jupyter/2023-10-09/lib/python3.11/site-packages (from huggingface_hub) (4.8.0)\n",
      "Requirement already satisfied: packaging>=20.9 in /packages/apps/jupyter/2023-10-09/lib/python3.11/site-packages (from huggingface_hub) (23.0)\n",
      "Requirement already satisfied: charset-normalizer<4,>=2 in /packages/apps/jupyter/2023-10-09/lib/python3.11/site-packages (from requests->huggingface_hub) (2.0.4)\n",
      "Requirement already satisfied: idna<4,>=2.5 in /packages/apps/jupyter/2023-10-09/lib/python3.11/site-packages (from requests->huggingface_hub) (3.4)\n",
      "Requirement already satisfied: urllib3<1.27,>=1.21.1 in /packages/apps/jupyter/2023-10-09/lib/python3.11/site-packages (from requests->huggingface_hub) (1.26.16)\n",
      "Requirement already satisfied: certifi>=2017.4.17 in /packages/apps/jupyter/2023-10-09/lib/python3.11/site-packages (from requests->huggingface_hub) (2023.7.22)\n",
      "Defaulting to user installation because normal site-packages is not writeable\n",
      "Requirement already satisfied: transformers in ./.local/lib/python3.11/site-packages (4.35.0)\n",
      "Requirement already satisfied: filelock in ./.local/lib/python3.11/site-packages (from transformers) (3.12.4)\n",
      "Requirement already satisfied: huggingface-hub<1.0,>=0.16.4 in ./.local/lib/python3.11/site-packages (from transformers) (0.17.3)\n",
      "Requirement already satisfied: numpy>=1.17 in /packages/apps/jupyter/2023-10-09/lib/python3.11/site-packages (from transformers) (1.26.0)\n",
      "Requirement already satisfied: packaging>=20.0 in /packages/apps/jupyter/2023-10-09/lib/python3.11/site-packages (from transformers) (23.0)\n",
      "Requirement already satisfied: pyyaml>=5.1 in /packages/apps/jupyter/2023-10-09/lib/python3.11/site-packages (from transformers) (6.0.1)\n",
      "Requirement already satisfied: regex!=2019.12.17 in ./.local/lib/python3.11/site-packages (from transformers) (2023.10.3)\n",
      "Requirement already satisfied: requests in /packages/apps/jupyter/2023-10-09/lib/python3.11/site-packages (from transformers) (2.29.0)\n",
      "Requirement already satisfied: tokenizers<0.15,>=0.14 in ./.local/lib/python3.11/site-packages (from transformers) (0.14.1)\n",
      "Requirement already satisfied: safetensors>=0.3.1 in ./.local/lib/python3.11/site-packages (from transformers) (0.4.0)\n",
      "Requirement already satisfied: tqdm>=4.27 in /packages/apps/jupyter/2023-10-09/lib/python3.11/site-packages (from transformers) (4.65.0)\n",
      "Requirement already satisfied: fsspec in /packages/apps/jupyter/2023-10-09/lib/python3.11/site-packages (from huggingface-hub<1.0,>=0.16.4->transformers) (2023.9.2)\n",
      "Requirement already satisfied: typing-extensions>=3.7.4.3 in /packages/apps/jupyter/2023-10-09/lib/python3.11/site-packages (from huggingface-hub<1.0,>=0.16.4->transformers) (4.8.0)\n",
      "Requirement already satisfied: charset-normalizer<4,>=2 in /packages/apps/jupyter/2023-10-09/lib/python3.11/site-packages (from requests->transformers) (2.0.4)\n",
      "Requirement already satisfied: idna<4,>=2.5 in /packages/apps/jupyter/2023-10-09/lib/python3.11/site-packages (from requests->transformers) (3.4)\n",
      "Requirement already satisfied: urllib3<1.27,>=1.21.1 in /packages/apps/jupyter/2023-10-09/lib/python3.11/site-packages (from requests->transformers) (1.26.16)\n",
      "Requirement already satisfied: certifi>=2017.4.17 in /packages/apps/jupyter/2023-10-09/lib/python3.11/site-packages (from requests->transformers) (2023.7.22)\n",
      "Defaulting to user installation because normal site-packages is not writeable\n",
      "Requirement already satisfied: datasets in ./.local/lib/python3.11/site-packages (2.14.6)\n",
      "Requirement already satisfied: numpy>=1.17 in /packages/apps/jupyter/2023-10-09/lib/python3.11/site-packages (from datasets) (1.26.0)\n",
      "Requirement already satisfied: pyarrow>=8.0.0 in /packages/apps/jupyter/2023-10-09/lib/python3.11/site-packages (from datasets) (13.0.0)\n",
      "Requirement already satisfied: dill<0.3.8,>=0.3.0 in ./.local/lib/python3.11/site-packages (from datasets) (0.3.7)\n",
      "Requirement already satisfied: pandas in /packages/apps/jupyter/2023-10-09/lib/python3.11/site-packages (from datasets) (2.1.1)\n",
      "Requirement already satisfied: requests>=2.19.0 in /packages/apps/jupyter/2023-10-09/lib/python3.11/site-packages (from datasets) (2.29.0)\n",
      "Requirement already satisfied: tqdm>=4.62.1 in /packages/apps/jupyter/2023-10-09/lib/python3.11/site-packages (from datasets) (4.65.0)\n",
      "Requirement already satisfied: xxhash in ./.local/lib/python3.11/site-packages (from datasets) (3.4.1)\n",
      "Requirement already satisfied: multiprocess in ./.local/lib/python3.11/site-packages (from datasets) (0.70.15)\n",
      "Requirement already satisfied: fsspec[http]<=2023.10.0,>=2023.1.0 in /packages/apps/jupyter/2023-10-09/lib/python3.11/site-packages (from datasets) (2023.9.2)\n",
      "Requirement already satisfied: aiohttp in ./.local/lib/python3.11/site-packages (from datasets) (3.8.6)\n",
      "Requirement already satisfied: huggingface-hub<1.0.0,>=0.14.0 in ./.local/lib/python3.11/site-packages (from datasets) (0.17.3)\n",
      "Requirement already satisfied: packaging in /packages/apps/jupyter/2023-10-09/lib/python3.11/site-packages (from datasets) (23.0)\n",
      "Requirement already satisfied: pyyaml>=5.1 in /packages/apps/jupyter/2023-10-09/lib/python3.11/site-packages (from datasets) (6.0.1)\n",
      "Requirement already satisfied: attrs>=17.3.0 in /packages/apps/jupyter/2023-10-09/lib/python3.11/site-packages (from aiohttp->datasets) (23.1.0)\n",
      "Requirement already satisfied: charset-normalizer<4.0,>=2.0 in /packages/apps/jupyter/2023-10-09/lib/python3.11/site-packages (from aiohttp->datasets) (2.0.4)\n",
      "Requirement already satisfied: multidict<7.0,>=4.5 in ./.local/lib/python3.11/site-packages (from aiohttp->datasets) (6.0.4)\n",
      "Requirement already satisfied: async-timeout<5.0,>=4.0.0a3 in ./.local/lib/python3.11/site-packages (from aiohttp->datasets) (4.0.3)\n",
      "Requirement already satisfied: yarl<2.0,>=1.0 in ./.local/lib/python3.11/site-packages (from aiohttp->datasets) (1.9.2)\n",
      "Requirement already satisfied: frozenlist>=1.1.1 in ./.local/lib/python3.11/site-packages (from aiohttp->datasets) (1.4.0)\n",
      "Requirement already satisfied: aiosignal>=1.1.2 in ./.local/lib/python3.11/site-packages (from aiohttp->datasets) (1.3.1)\n",
      "Requirement already satisfied: filelock in ./.local/lib/python3.11/site-packages (from huggingface-hub<1.0.0,>=0.14.0->datasets) (3.12.4)\n",
      "Requirement already satisfied: typing-extensions>=3.7.4.3 in /packages/apps/jupyter/2023-10-09/lib/python3.11/site-packages (from huggingface-hub<1.0.0,>=0.14.0->datasets) (4.8.0)\n",
      "Requirement already satisfied: idna<4,>=2.5 in /packages/apps/jupyter/2023-10-09/lib/python3.11/site-packages (from requests>=2.19.0->datasets) (3.4)\n",
      "Requirement already satisfied: urllib3<1.27,>=1.21.1 in /packages/apps/jupyter/2023-10-09/lib/python3.11/site-packages (from requests>=2.19.0->datasets) (1.26.16)\n",
      "Requirement already satisfied: certifi>=2017.4.17 in /packages/apps/jupyter/2023-10-09/lib/python3.11/site-packages (from requests>=2.19.0->datasets) (2023.7.22)\n",
      "Requirement already satisfied: python-dateutil>=2.8.2 in /packages/apps/jupyter/2023-10-09/lib/python3.11/site-packages (from pandas->datasets) (2.8.2)\n",
      "Requirement already satisfied: pytz>=2020.1 in /packages/apps/jupyter/2023-10-09/lib/python3.11/site-packages (from pandas->datasets) (2023.3.post1)\n",
      "Requirement already satisfied: tzdata>=2022.1 in /packages/apps/jupyter/2023-10-09/lib/python3.11/site-packages (from pandas->datasets) (2023.3)\n",
      "Requirement already satisfied: six>=1.5 in /packages/apps/jupyter/2023-10-09/lib/python3.11/site-packages (from python-dateutil>=2.8.2->pandas->datasets) (1.16.0)\n",
      "Defaulting to user installation because normal site-packages is not writeable\n",
      "Requirement already satisfied: accelerate in ./.local/lib/python3.11/site-packages (0.24.1)\n",
      "Requirement already satisfied: numpy>=1.17 in /packages/apps/jupyter/2023-10-09/lib/python3.11/site-packages (from accelerate) (1.26.0)\n",
      "Requirement already satisfied: packaging>=20.0 in /packages/apps/jupyter/2023-10-09/lib/python3.11/site-packages (from accelerate) (23.0)\n",
      "Requirement already satisfied: psutil in /packages/apps/jupyter/2023-10-09/lib/python3.11/site-packages (from accelerate) (5.9.5)\n",
      "Requirement already satisfied: pyyaml in /packages/apps/jupyter/2023-10-09/lib/python3.11/site-packages (from accelerate) (6.0.1)\n",
      "Requirement already satisfied: torch>=1.10.0 in ./.local/lib/python3.11/site-packages (from accelerate) (2.0.1)\n",
      "Requirement already satisfied: huggingface-hub in ./.local/lib/python3.11/site-packages (from accelerate) (0.17.3)\n",
      "Requirement already satisfied: filelock in ./.local/lib/python3.11/site-packages (from torch>=1.10.0->accelerate) (3.12.4)\n",
      "Requirement already satisfied: typing-extensions in /packages/apps/jupyter/2023-10-09/lib/python3.11/site-packages (from torch>=1.10.0->accelerate) (4.8.0)\n",
      "Requirement already satisfied: sympy in /packages/apps/jupyter/2023-10-09/lib/python3.11/site-packages (from torch>=1.10.0->accelerate) (1.12)\n",
      "Requirement already satisfied: networkx in /packages/apps/jupyter/2023-10-09/lib/python3.11/site-packages (from torch>=1.10.0->accelerate) (3.1)\n",
      "Requirement already satisfied: jinja2 in /packages/apps/jupyter/2023-10-09/lib/python3.11/site-packages (from torch>=1.10.0->accelerate) (3.1.2)\n",
      "Requirement already satisfied: nvidia-cuda-nvrtc-cu11==11.7.99 in ./.local/lib/python3.11/site-packages (from torch>=1.10.0->accelerate) (11.7.99)\n",
      "Requirement already satisfied: nvidia-cuda-runtime-cu11==11.7.99 in ./.local/lib/python3.11/site-packages (from torch>=1.10.0->accelerate) (11.7.99)\n",
      "Requirement already satisfied: nvidia-cuda-cupti-cu11==11.7.101 in ./.local/lib/python3.11/site-packages (from torch>=1.10.0->accelerate) (11.7.101)\n",
      "Requirement already satisfied: nvidia-cudnn-cu11==8.5.0.96 in ./.local/lib/python3.11/site-packages (from torch>=1.10.0->accelerate) (8.5.0.96)\n",
      "Requirement already satisfied: nvidia-cublas-cu11==11.10.3.66 in ./.local/lib/python3.11/site-packages (from torch>=1.10.0->accelerate) (11.10.3.66)\n",
      "Requirement already satisfied: nvidia-cufft-cu11==10.9.0.58 in ./.local/lib/python3.11/site-packages (from torch>=1.10.0->accelerate) (10.9.0.58)\n",
      "Requirement already satisfied: nvidia-curand-cu11==10.2.10.91 in ./.local/lib/python3.11/site-packages (from torch>=1.10.0->accelerate) (10.2.10.91)\n",
      "Requirement already satisfied: nvidia-cusolver-cu11==11.4.0.1 in ./.local/lib/python3.11/site-packages (from torch>=1.10.0->accelerate) (11.4.0.1)\n",
      "Requirement already satisfied: nvidia-cusparse-cu11==11.7.4.91 in ./.local/lib/python3.11/site-packages (from torch>=1.10.0->accelerate) (11.7.4.91)\n",
      "Requirement already satisfied: nvidia-nccl-cu11==2.14.3 in ./.local/lib/python3.11/site-packages (from torch>=1.10.0->accelerate) (2.14.3)\n",
      "Requirement already satisfied: nvidia-nvtx-cu11==11.7.91 in ./.local/lib/python3.11/site-packages (from torch>=1.10.0->accelerate) (11.7.91)\n",
      "Requirement already satisfied: triton==2.0.0 in ./.local/lib/python3.11/site-packages (from torch>=1.10.0->accelerate) (2.0.0)\n",
      "Requirement already satisfied: setuptools in /packages/apps/jupyter/2023-10-09/lib/python3.11/site-packages (from nvidia-cublas-cu11==11.10.3.66->torch>=1.10.0->accelerate) (67.8.0)\n",
      "Requirement already satisfied: wheel in /packages/apps/jupyter/2023-10-09/lib/python3.11/site-packages (from nvidia-cublas-cu11==11.10.3.66->torch>=1.10.0->accelerate) (0.38.4)\n",
      "Requirement already satisfied: cmake in ./.local/lib/python3.11/site-packages (from triton==2.0.0->torch>=1.10.0->accelerate) (3.27.7)\n",
      "Requirement already satisfied: lit in ./.local/lib/python3.11/site-packages (from triton==2.0.0->torch>=1.10.0->accelerate) (17.0.4)\n",
      "Requirement already satisfied: fsspec in /packages/apps/jupyter/2023-10-09/lib/python3.11/site-packages (from huggingface-hub->accelerate) (2023.9.2)\n",
      "Requirement already satisfied: requests in /packages/apps/jupyter/2023-10-09/lib/python3.11/site-packages (from huggingface-hub->accelerate) (2.29.0)\n",
      "Requirement already satisfied: tqdm>=4.42.1 in /packages/apps/jupyter/2023-10-09/lib/python3.11/site-packages (from huggingface-hub->accelerate) (4.65.0)\n",
      "Requirement already satisfied: MarkupSafe>=2.0 in /packages/apps/jupyter/2023-10-09/lib/python3.11/site-packages (from jinja2->torch>=1.10.0->accelerate) (2.1.3)\n",
      "Requirement already satisfied: charset-normalizer<4,>=2 in /packages/apps/jupyter/2023-10-09/lib/python3.11/site-packages (from requests->huggingface-hub->accelerate) (2.0.4)\n",
      "Requirement already satisfied: idna<4,>=2.5 in /packages/apps/jupyter/2023-10-09/lib/python3.11/site-packages (from requests->huggingface-hub->accelerate) (3.4)\n",
      "Requirement already satisfied: urllib3<1.27,>=1.21.1 in /packages/apps/jupyter/2023-10-09/lib/python3.11/site-packages (from requests->huggingface-hub->accelerate) (1.26.16)\n",
      "Requirement already satisfied: certifi>=2017.4.17 in /packages/apps/jupyter/2023-10-09/lib/python3.11/site-packages (from requests->huggingface-hub->accelerate) (2023.7.22)\n",
      "Requirement already satisfied: mpmath>=0.19 in /packages/apps/jupyter/2023-10-09/lib/python3.11/site-packages (from sympy->torch>=1.10.0->accelerate) (1.3.0)\n"
     ]
    }
   ],
   "source": [
    "!pip install huggingface_hub\n",
    "!pip install transformers\n",
    "!pip install datasets\n",
    "!pip install accelerate"
   ]
  },
  {
   "cell_type": "code",
   "execution_count": 2,
   "id": "f1b918e3-7ee3-4a60-bec7-15e35df675ae",
   "metadata": {},
   "outputs": [],
   "source": [
    "import numpy as np\n",
    "from datasets import load_dataset\n",
    "\n",
    "# Load the dataset with the `large_random_1k` subset\n",
    "dataset = load_dataset('poloclub/diffusiondb', '2m_first_1k')"
   ]
  },
  {
   "cell_type": "code",
   "execution_count": 3,
   "id": "3a1f7b77-301f-46d7-9de5-a73130dfa9df",
   "metadata": {},
   "outputs": [
    {
     "data": {
      "text/plain": [
       "Dataset({\n",
       "    features: ['image', 'prompt', 'seed', 'step', 'cfg', 'sampler', 'width', 'height', 'user_name', 'timestamp', 'image_nsfw', 'prompt_nsfw'],\n",
       "    num_rows: 1000\n",
       "})"
      ]
     },
     "execution_count": 3,
     "metadata": {},
     "output_type": "execute_result"
    }
   ],
   "source": [
    "my_1k_data = dataset['train']\n",
    "my_1k_data"
   ]
  },
  {
   "cell_type": "code",
   "execution_count": 4,
   "id": "3902f29e-faa2-422d-bc4f-4880030bc9e7",
   "metadata": {},
   "outputs": [
    {
     "data": {
      "application/vnd.jupyter.widget-view+json": {
       "model_id": "854a855b84b14ed3bc975f3c0064b9fb",
       "version_major": 2,
       "version_minor": 0
      },
      "text/plain": [
       "VBox(children=(HTML(value='<center> <img\\nsrc=https://huggingface.co/front/assets/huggingface_logo-noborder.sv…"
      ]
     },
     "metadata": {},
     "output_type": "display_data"
    }
   ],
   "source": [
    "from huggingface_hub import login\n",
    "login()"
   ]
  },
  {
   "cell_type": "code",
   "execution_count": 7,
   "id": "762e0cb6-c1bc-4664-8103-1d5efa3db096",
   "metadata": {},
   "outputs": [
    {
     "data": {
      "application/vnd.jupyter.widget-view+json": {
       "model_id": "c5c29072268e4221ae9474621e4ee4c5",
       "version_major": 2,
       "version_minor": 0
      },
      "text/plain": [
       "Loading checkpoint shards:   0%|          | 0/2 [00:00<?, ?it/s]"
      ]
     },
     "metadata": {},
     "output_type": "display_data"
    },
    {
     "name": "stderr",
     "output_type": "stream",
     "text": [
      "/home/amudra/.local/lib/python3.11/site-packages/transformers/generation/configuration_utils.py:381: UserWarning: `do_sample` is set to `False`. However, `temperature` is set to `1e-05` -- this flag is only used in sample-based generation modes. You should set `do_sample=True` or unset `temperature`.\n",
      "  warnings.warn(\n"
     ]
    },
    {
     "name": "stdout",
     "output_type": "stream",
     "text": [
      "{'Q. What is the subject of the portrait?': 'A. The subject of the portrait is Dwayne Johnson', 'Q. What is the style of the painting?': 'A. The painting is in the style of Rembrandt', 'Q. What is the medium used in the painting?': 'A. The medium used in the painting is oil on canvas', 'Q. What is the technique used in the painting?': 'A. The technique used in the painting is wet-on-wet', 'Q. What is the level of realism in the painting?': 'A. The level of realism in the painting is highly realistic', 'Q. What is the lighting effect in the painting?': 'A. The lighting effect in the painting is cinematic lightning', 'Q. What are the textures like in the painting?': 'A. The textures in the painting are intricate', 'Q. What is the level of detail in the painting?': 'A. The level of detail in the painting is highly intricate and illusionistic.'}\n"
     ]
    }
   ],
   "source": [
    "from transformers import AutoTokenizer\n",
    "import transformers\n",
    "import torch\n",
    "import random\n",
    "import json\n",
    "import re\n",
    "\n",
    "model = \"meta-llama/Llama-2-7b-chat-hf\"\n",
    "\n",
    "tokenizer = AutoTokenizer.from_pretrained(model)\n",
    "pipeline = transformers.pipeline(\n",
    "    \"text-generation\",\n",
    "    model=model,\n",
    "    torch_dtype=torch.float16,\n",
    "    device_map=\"auto\",\n",
    ")\n",
    "\n",
    "#testing for one index\n",
    "index = 0\n",
    "\n",
    "samp = \"\"\"I will give you a prompt. Generate 6 to 7 pairs of questions and answers from this prompt. You can include question about what attributes mentioned in the prompt such as shape, size, color etc. Think of these questions in such a way that their answers complete the description of the prompt and can be used to make an image through the features described in it. As an example, look at this prompt and the question answer pair generated for it:\n",
    "Prompt: a little girl embroidery, fine art, muted background, calm colore. oil paiting by jan vermeer, masterpiese Question-Answer pair to be generated: Q. What is the object? A. The object is an embroidery of a little girl Q. What is the background color? A. The background is muted  Q.What type of painting is it? A. It is an oil painting. Q.Who is the painter? A. Jan Vermeer is the painter Generate similar question answer pairs for the following prompt:\"\"\"\n",
    "\n",
    "sequences = pipeline(\n",
    "    # samp + my_1k_data['prompt'][index] + \"<Q&A>\",\n",
    "    samp + my_1k_data['prompt'][index] + \"Question-Answer pair to be generated:\",\n",
    "    # samp + my_1k_data['prompt'][index] ,\n",
    "    # my_1k_data['prompt'][index],\n",
    "    do_sample=False,\n",
    "    top_k=50,\n",
    "    num_return_sequences=1,\n",
    "    eos_token_id=tokenizer.eos_token_id,\n",
    "    # max_length=200,\n",
    "    max_new_tokens=512,\n",
    "    temperature = 1e-05,\n",
    "    top_p = 1,\n",
    "    repetition_penalty = 1.0,\n",
    "    length_penalty = 1\n",
    ")\n",
    "\n",
    "text = sequences[0]['generated_text']\n",
    "\n",
    "input_text = text.split('Question-Answer pair to be generated:')\n",
    "input_text\n",
    "\n",
    "qa_dict = {}\n",
    "\n",
    "# Iterate through array starting from the second index\n",
    "for i in range(2, len(input_text), 2):\n",
    "    # Extract questions and answers\n",
    "    questions = re.findall(r'Q\\..*?\\?', input_text[i])\n",
    "    answers = re.findall(r'A\\..*?(?=(?:Q\\.|$))', input_text[i])\n",
    "\n",
    "    # Populate the dictionary with questions and answers\n",
    "    for question, answer in zip(questions, answers):\n",
    "        qa_dict[question.strip()] = answer.strip()\n",
    "\n",
    "# Print the resulting dictionary\n",
    "print(qa_dict)"
   ]
  },
  {
   "cell_type": "code",
   "execution_count": null,
   "id": "d7e20484-0e2d-4c1f-a357-b457494b5052",
   "metadata": {},
   "outputs": [],
   "source": [
    "samp = \"\"\"I will give you a prompt. Generate 6 to 7 pairs of questions and answers from this prompt. You can include question about what attributes mentioned in the prompt such as shape, size, color etc. Think of these questions in such a way that their answers complete the description of the prompt and can be used to make an image through the features described in it. As an example, look at this prompt and the question answer pair generated for it:\n",
    "Prompt: a little girl embroidery, fine art, muted background, calm colore. oil paiting by jan vermeer, masterpiese Question-Answer pair to be generated: Q. What is the object? A. The object is an embroidery of a little girl Q. What is the background color? A. The background is muted  Q.What type of painting is it? A. It is an oil painting. Q.Who is the painter? A. Jan Vermeer is the painter Generate similar question answer pairs for the following prompt:\"\"\"\n",
    "\n",
    "# Initialize the final output dictionary\n",
    "final_output = {}\n",
    "\n",
    "for index in range(min(10, len(my_1k_data['image']))):\n",
    "\n",
    "    sequences = pipeline(\n",
    "        samp + my_1k_data['prompt'][index] + \"Question-Answer pair to be generated:\",\n",
    "        do_sample=False,\n",
    "        top_k=50,\n",
    "        num_return_sequences=1,\n",
    "        eos_token_id=tokenizer.eos_token_id,\n",
    "        max_new_tokens=512,\n",
    "        temperature=1e-05,\n",
    "        top_p=1,\n",
    "        repetition_penalty=1.0,\n",
    "        length_penalty=1\n",
    "    )\n",
    "\n",
    "    text = sequences[0]['generated_text']\n",
    "\n",
    "    input_text = text.split('Question-Answer pair to be generated:')\n",
    "    \n",
    "    qa_dict = {}\n",
    "    for i in range(2, len(input_text), 2):\n",
    "        questions = re.findall(r'Q\\..*?\\?', input_text[i])\n",
    "        answers = re.findall(r'A\\..*?(?=(?:Q\\.|$))', input_text[i])\n",
    "\n",
    "        for question, answer in zip(questions, answers):\n",
    "            qa_dict[question.strip()] = answer.strip()\n",
    "\n",
    "    final_output[index] = {\n",
    "        'image': my_1k_data['image'][index],\n",
    "        'prompt': my_1k_data['prompt'][index],\n",
    "        'qa_pairs': qa_dict\n",
    "    }\n",
    "\n",
    "print(final_output)\n"
   ]
  },
  {
   "cell_type": "code",
   "execution_count": null,
   "id": "9464e5c6-dd3f-4c80-a865-470a586d467b",
   "metadata": {},
   "outputs": [],
   "source": [
    "######################################################################"
   ]
  },
  {
   "cell_type": "code",
   "execution_count": null,
   "id": "0f9b223f-9443-4af6-9100-efa16433fe5d",
   "metadata": {},
   "outputs": [],
   "source": [
    "#####################################################################"
   ]
  },
  {
   "cell_type": "code",
   "execution_count": null,
   "id": "2a04c227-ab99-4a36-ac7b-9b5a34ce5858",
   "metadata": {},
   "outputs": [],
   "source": [
    "#Final Single Cell Code for QnA Gen of All Images in Dataset\n",
    "#Can be implemented after Cell 4\n",
    "#Input: my_1k_data (dataset)\n",
    "#Output: final_output (dictionary)"
   ]
  },
  {
   "cell_type": "code",
   "execution_count": null,
   "id": "b3d1880a-9cac-4a93-924c-c7c290a8526e",
   "metadata": {},
   "outputs": [
    {
     "data": {
      "application/vnd.jupyter.widget-view+json": {
       "model_id": "7b392e4260394f129fb5ee36ae316796",
       "version_major": 2,
       "version_minor": 0
      },
      "text/plain": [
       "Loading checkpoint shards:   0%|          | 0/2 [00:00<?, ?it/s]"
      ]
     },
     "metadata": {},
     "output_type": "display_data"
    }
   ],
   "source": [
    "from transformers import AutoTokenizer\n",
    "import transformers\n",
    "import torch\n",
    "import random\n",
    "import json\n",
    "import re\n",
    "\n",
    "model = \"meta-llama/Llama-2-7b-chat-hf\"\n",
    "\n",
    "tokenizer = AutoTokenizer.from_pretrained(model)\n",
    "pipeline = transformers.pipeline(\n",
    "    \"text-generation\",\n",
    "    model=model,\n",
    "    torch_dtype=torch.float16,\n",
    "    device_map=\"auto\",\n",
    ")\n",
    "\n",
    "samp = \"\"\"I will give you a prompt. Generate 6 to 7 pairs of questions and answers from this prompt. You can include question about what attributes mentioned in the prompt such as shape, size, color etc. Think of these questions in such a way that their answers complete the description of the prompt and can be used to make an image through the features described in it. As an example, look at this prompt and the question answer pair generated for it:\n",
    "Prompt: a little girl embroidery, fine art, muted background, calm colore. oil paiting by jan vermeer, masterpiese Question-Answer pair to be generated: Q. What is the object? A. The object is an embroidery of a little girl Q. What is the background color? A. The background is muted  Q.What type of painting is it? A. It is an oil painting. Q.Who is the painter? A. Jan Vermeer is the painter Generate similar question answer pairs for the following prompt:\"\"\"\n",
    "\n",
    "# Initialize the final output dictionary\n",
    "final_output = {}\n",
    "\n",
    "for index in range(len(my_1k_data['image'])):\n",
    "\n",
    "    sequences = pipeline(\n",
    "        samp + my_1k_data['prompt'][index] + \"Question-Answer pair to be generated:\",\n",
    "        do_sample=False,\n",
    "        top_k=50,\n",
    "        num_return_sequences=1,\n",
    "        eos_token_id=tokenizer.eos_token_id,\n",
    "        max_new_tokens=512,\n",
    "        temperature=1e-05,\n",
    "        top_p=1,\n",
    "        repetition_penalty=1.0,\n",
    "        length_penalty=1\n",
    "    )\n",
    "\n",
    "    text = sequences[0]['generated_text']\n",
    "\n",
    "    input_text = text.split('Question-Answer pair to be generated:')\n",
    "    \n",
    "    qa_dict = {}\n",
    "    for i in range(2, len(input_text), 2):\n",
    "        questions = re.findall(r'Q\\..*?\\?', input_text[i])\n",
    "        answers = re.findall(r'A\\..*?(?=(?:Q\\.|$))', input_text[i])\n",
    "\n",
    "        for question, answer in zip(questions, answers):\n",
    "            qa_dict[question.strip()] = answer.strip()\n",
    "\n",
    "    final_output[index] = {\n",
    "        'image': my_1k_data['image'][index],\n",
    "        'prompt': my_1k_data['prompt'][index],\n",
    "        'qa_pairs': qa_dict\n",
    "    }\n",
    "\n",
    "print(final_output)\n"
   ]
  },
  {
   "cell_type": "code",
   "execution_count": null,
   "id": "a4cb80e3-ac03-4f53-a2ac-611b4fe39534",
   "metadata": {},
   "outputs": [],
   "source": []
  }
 ],
 "metadata": {
  "kernelspec": {
   "display_name": "Python 3 (ipykernel)",
   "language": "python",
   "name": "python3"
  },
  "language_info": {
   "codemirror_mode": {
    "name": "ipython",
    "version": 3
   },
   "file_extension": ".py",
   "mimetype": "text/x-python",
   "name": "python",
   "nbconvert_exporter": "python",
   "pygments_lexer": "ipython3",
   "version": "3.11.6"
  }
 },
 "nbformat": 4,
 "nbformat_minor": 5
}
